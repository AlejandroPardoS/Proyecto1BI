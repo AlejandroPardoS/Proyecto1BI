{
  "cells": [
    {
      "cell_type": "markdown",
      "id": "e9a59cf8",
      "metadata": {
        "id": "e9a59cf8"
      },
      "source": [
        "# 1. Introducción al Dataset y Carga de Datos"
      ]
    },
    {
      "cell_type": "code",
      "execution_count": 68,
      "id": "ae6e2237",
      "metadata": {
        "colab": {
          "base_uri": "https://localhost:8080/",
          "height": 414
        },
        "id": "ae6e2237",
        "outputId": "bf810c82-fd12-4bb4-af05-c143eceb5581"
      },
      "outputs": [
        {
          "name": "stdout",
          "output_type": "stream",
          "text": [
            "Primeras 5 filas del dataset:\n"
          ]
        },
        {
          "data": {
            "text/html": [
              "<div>\n",
              "<style scoped>\n",
              "    .dataframe tbody tr th:only-of-type {\n",
              "        vertical-align: middle;\n",
              "    }\n",
              "\n",
              "    .dataframe tbody tr th {\n",
              "        vertical-align: top;\n",
              "    }\n",
              "\n",
              "    .dataframe thead th {\n",
              "        text-align: right;\n",
              "    }\n",
              "</style>\n",
              "<table border=\"1\" class=\"dataframe\">\n",
              "  <thead>\n",
              "    <tr style=\"text-align: right;\">\n",
              "      <th></th>\n",
              "      <th>textos</th>\n",
              "      <th>labels</th>\n",
              "    </tr>\n",
              "  </thead>\n",
              "  <tbody>\n",
              "    <tr>\n",
              "      <th>0</th>\n",
              "      <td>\"Aprendizaje\" y \"educación\" se consideran sinó...</td>\n",
              "      <td>4</td>\n",
              "    </tr>\n",
              "    <tr>\n",
              "      <th>1</th>\n",
              "      <td>Para los niños más pequeños (bebés y niños peq...</td>\n",
              "      <td>4</td>\n",
              "    </tr>\n",
              "    <tr>\n",
              "      <th>2</th>\n",
              "      <td>Además, la formación de especialistas en medic...</td>\n",
              "      <td>3</td>\n",
              "    </tr>\n",
              "    <tr>\n",
              "      <th>3</th>\n",
              "      <td>En los países de la OCDE se tiende a pasar de ...</td>\n",
              "      <td>4</td>\n",
              "    </tr>\n",
              "    <tr>\n",
              "      <th>4</th>\n",
              "      <td>Este grupo se centró en las personas que padec...</td>\n",
              "      <td>3</td>\n",
              "    </tr>\n",
              "  </tbody>\n",
              "</table>\n",
              "</div>"
            ],
            "text/plain": [
              "                                              textos  labels\n",
              "0  \"Aprendizaje\" y \"educación\" se consideran sinó...       4\n",
              "1  Para los niños más pequeños (bebés y niños peq...       4\n",
              "2  Además, la formación de especialistas en medic...       3\n",
              "3  En los países de la OCDE se tiende a pasar de ...       4\n",
              "4  Este grupo se centró en las personas que padec...       3"
            ]
          },
          "metadata": {},
          "output_type": "display_data"
        },
        {
          "name": "stdout",
          "output_type": "stream",
          "text": [
            "\n",
            "Información general del dataset:\n",
            "<class 'pandas.core.frame.DataFrame'>\n",
            "RangeIndex: 2424 entries, 0 to 2423\n",
            "Data columns (total 2 columns):\n",
            " #   Column  Non-Null Count  Dtype \n",
            "---  ------  --------------  ----- \n",
            " 0   textos  2424 non-null   object\n",
            " 1   labels  2424 non-null   int64 \n",
            "dtypes: int64(1), object(1)\n",
            "memory usage: 38.0+ KB\n"
          ]
        }
      ],
      "source": [
        "# Importamos pandas para manejar el dataset\n",
        "import pandas as pd\n",
        "\n",
        "# Cargamos el dataset desde el archivo xlsx\n",
        "# Nota: Modifique la ruta al archivo si fuese necesario\n",
        "df = pd.read_excel('data/Datos_proyecto.xlsx')\n",
        "\n",
        "# Mostramos las primeras filas para conocer la estructura de los datos\n",
        "print(\"Primeras 5 filas del dataset:\")\n",
        "display(df.head())\n",
        "\n",
        "# Obtención de información general sobre las columnas y tipos de datos\n",
        "print(\"\\nInformación general del dataset:\")\n",
        "df.info()"
      ]
    },
    {
      "cell_type": "code",
      "execution_count": 69,
      "id": "b607177f",
      "metadata": {
        "colab": {
          "base_uri": "https://localhost:8080/",
          "height": 241
        },
        "id": "b607177f",
        "outputId": "04f95049-f263-42e9-925c-33fdbeada56e"
      },
      "outputs": [
        {
          "name": "stdout",
          "output_type": "stream",
          "text": [
            "\n",
            "Dataset con columna de ID:\n"
          ]
        },
        {
          "data": {
            "text/html": [
              "<div>\n",
              "<style scoped>\n",
              "    .dataframe tbody tr th:only-of-type {\n",
              "        vertical-align: middle;\n",
              "    }\n",
              "\n",
              "    .dataframe tbody tr th {\n",
              "        vertical-align: top;\n",
              "    }\n",
              "\n",
              "    .dataframe thead th {\n",
              "        text-align: right;\n",
              "    }\n",
              "</style>\n",
              "<table border=\"1\" class=\"dataframe\">\n",
              "  <thead>\n",
              "    <tr style=\"text-align: right;\">\n",
              "      <th></th>\n",
              "      <th>id</th>\n",
              "      <th>textos</th>\n",
              "      <th>labels</th>\n",
              "    </tr>\n",
              "  </thead>\n",
              "  <tbody>\n",
              "    <tr>\n",
              "      <th>0</th>\n",
              "      <td>1</td>\n",
              "      <td>\"Aprendizaje\" y \"educación\" se consideran sinó...</td>\n",
              "      <td>4</td>\n",
              "    </tr>\n",
              "    <tr>\n",
              "      <th>1</th>\n",
              "      <td>2</td>\n",
              "      <td>Para los niños más pequeños (bebés y niños peq...</td>\n",
              "      <td>4</td>\n",
              "    </tr>\n",
              "    <tr>\n",
              "      <th>2</th>\n",
              "      <td>3</td>\n",
              "      <td>Además, la formación de especialistas en medic...</td>\n",
              "      <td>3</td>\n",
              "    </tr>\n",
              "    <tr>\n",
              "      <th>3</th>\n",
              "      <td>4</td>\n",
              "      <td>En los países de la OCDE se tiende a pasar de ...</td>\n",
              "      <td>4</td>\n",
              "    </tr>\n",
              "    <tr>\n",
              "      <th>4</th>\n",
              "      <td>5</td>\n",
              "      <td>Este grupo se centró en las personas que padec...</td>\n",
              "      <td>3</td>\n",
              "    </tr>\n",
              "  </tbody>\n",
              "</table>\n",
              "</div>"
            ],
            "text/plain": [
              "   id                                             textos  labels\n",
              "0   1  \"Aprendizaje\" y \"educación\" se consideran sinó...       4\n",
              "1   2  Para los niños más pequeños (bebés y niños peq...       4\n",
              "2   3  Además, la formación de especialistas en medic...       3\n",
              "3   4  En los países de la OCDE se tiende a pasar de ...       4\n",
              "4   5  Este grupo se centró en las personas que padec...       3"
            ]
          },
          "metadata": {},
          "output_type": "display_data"
        }
      ],
      "source": [
        "# Poner una columna de id\n",
        "df.reset_index(inplace=True)\n",
        "df.rename(columns={'index': 'id'}, inplace=True)\n",
        "df['id'] = df['id'] + 1  # Empezar IDs desde 1\n",
        "#df.set_index('id', inplace=True)\n",
        "print(\"\\nDataset con columna de ID:\")\n",
        "display(df.head())  # Mostrar las primeras filas con la nueva columna de ID"
      ]
    },
    {
      "cell_type": "markdown",
      "id": "5a506fa4",
      "metadata": {
        "id": "5a506fa4"
      },
      "source": [
        "# 2. Análisis descriptivo de las opiniones\n",
        "\n",
        "En esta sección nos centraremos en analizar el campo \"textos\" del dataset. Este campo contiene una opinión en español. Nuestro objetivo es entender la calidad, cantidad y características textuales de esta información para preparar análisis posteriores.\n",
        "\n",
        "## Objetivos:\n",
        "\n",
        "- Identificar cantidad y proporción de valores nulos o vacíos en la columna \"textos\".  \n",
        "- Calcular estadísticas básicas como longitud del texto: media, mínimo y máximo.  \n",
        "- Mostrar visualmente algunas muestras representativas para observar variedades y características del texto.  \n",
        "\n",
        "## Desarrollo:\n",
        "\n",
        "1. Se verifican nulos o cadenas vacías en la columna de descripción para evaluar calidad y completitud.  \n",
        "2. Se calculan estadísticas básicas de longitud de cada opinión para conocer dispersión y valores extremos.  "
      ]
    },
    {
      "cell_type": "code",
      "execution_count": 70,
      "id": "ba099527",
      "metadata": {
        "colab": {
          "base_uri": "https://localhost:8080/",
          "height": 553
        },
        "id": "ba099527",
        "outputId": "ba6cb9e5-daaf-4020-99f4-305e86b8b879"
      },
      "outputs": [
        {
          "name": "stdout",
          "output_type": "stream",
          "text": [
            "Número de valores nulos en 'textos': 0\n",
            "Número de valores vacíos en 'textos': 0\n",
            "\n",
            "Estadísticas básicas de longitud de texto:\n",
            "count    2424.000000\n",
            "mean      683.223185\n",
            "std       223.563695\n",
            "min       303.000000\n",
            "25%       513.000000\n",
            "50%       647.000000\n",
            "75%       809.250000\n",
            "max      1492.000000\n",
            "Name: text_length, dtype: float64\n",
            "\n",
            "Ejemplos de textos:\n"
          ]
        },
        {
          "data": {
            "text/html": [
              "<div>\n",
              "<style scoped>\n",
              "    .dataframe tbody tr th:only-of-type {\n",
              "        vertical-align: middle;\n",
              "    }\n",
              "\n",
              "    .dataframe tbody tr th {\n",
              "        vertical-align: top;\n",
              "    }\n",
              "\n",
              "    .dataframe thead th {\n",
              "        text-align: right;\n",
              "    }\n",
              "</style>\n",
              "<table border=\"1\" class=\"dataframe\">\n",
              "  <thead>\n",
              "    <tr style=\"text-align: right;\">\n",
              "      <th></th>\n",
              "      <th>textos</th>\n",
              "      <th>labels</th>\n",
              "    </tr>\n",
              "  </thead>\n",
              "  <tbody>\n",
              "    <tr>\n",
              "      <th>1490</th>\n",
              "      <td>Por lo general, se entiende que los trastornos...</td>\n",
              "      <td>3</td>\n",
              "    </tr>\n",
              "    <tr>\n",
              "      <th>387</th>\n",
              "      <td>En la mayoría de los contratos, el objetivo es...</td>\n",
              "      <td>3</td>\n",
              "    </tr>\n",
              "    <tr>\n",
              "      <th>1419</th>\n",
              "      <td>Las tasas de consumo de alcohol y tabaquismo n...</td>\n",
              "      <td>3</td>\n",
              "    </tr>\n",
              "    <tr>\n",
              "      <th>410</th>\n",
              "      <td>Hubo una disminución constante en el porcentaj...</td>\n",
              "      <td>4</td>\n",
              "    </tr>\n",
              "    <tr>\n",
              "      <th>482</th>\n",
              "      <td>La oferta insuficiente de programas vocacional...</td>\n",
              "      <td>4</td>\n",
              "    </tr>\n",
              "  </tbody>\n",
              "</table>\n",
              "</div>"
            ],
            "text/plain": [
              "                                                 textos  labels\n",
              "1490  Por lo general, se entiende que los trastornos...       3\n",
              "387   En la mayoría de los contratos, el objetivo es...       3\n",
              "1419  Las tasas de consumo de alcohol y tabaquismo n...       3\n",
              "410   Hubo una disminución constante en el porcentaj...       4\n",
              "482   La oferta insuficiente de programas vocacional...       4"
            ]
          },
          "metadata": {},
          "output_type": "display_data"
        },
        {
          "name": "stdout",
          "output_type": "stream",
          "text": [
            "labels\n",
            "4    0.423\n",
            "3    0.369\n",
            "1    0.208\n",
            "Name: proportion, dtype: float64\n"
          ]
        }
      ],
      "source": [
        "import matplotlib.pyplot as plt\n",
        "\n",
        "# Verificamos nulos y vacíos en la columna textos\n",
        "num_nulls = df['textos'].isnull().sum()\n",
        "num_empty = (df['textos'].str.strip() == '').sum()\n",
        "\n",
        "print(f\"Número de valores nulos en 'textos': {num_nulls}\")\n",
        "print(f\"Número de valores vacíos en 'textos': {num_empty}\")\n",
        "\n",
        "# Calculamos longitud de cada texto\n",
        "df['text_length'] = df['textos'].str.len()\n",
        "\n",
        "# Estadísticas básicas sobre la longitud\n",
        "text_length_stats = df['text_length'].describe()\n",
        "print(\"\\nEstadísticas básicas de longitud de texto:\")\n",
        "print(text_length_stats)\n",
        "\n",
        "# Visualización de algunas muestras representativas\n",
        "print(\"\\nEjemplos de textos:\")\n",
        "display(df[['textos', 'labels']].sample(5, random_state=42))\n",
        "\n",
        "#proporcion de cada label en el dataset\n",
        "print(df['labels'].value_counts(normalize=True).round(3))"
      ]
    },
    {
      "cell_type": "markdown",
      "id": "f0aef3b9",
      "metadata": {
        "id": "f0aef3b9"
      },
      "source": [
        "# 3. Procesamiento de texto: tokenización y limpieza de palabras\n",
        "\n",
        "En esta sección se va a procesar texto para análisis basados en palabras. Usaremos el campo \"textos\" y transformaremos cada texto en una lista de palabras limpias y significativas. Este paso es fundamental para realizar un análisis posterior de frecuencia y relevancia de palabras.\n",
        "\n",
        "## Objetivos:\n",
        "\n",
        "- Tokenizar las descripciones: separar cada texto en palabras individuales.  \n",
        "- Limpiar el texto: pasar a minúsculas, eliminar signos de puntuación y palabras vacías (stopwords).  \n",
        "- Crear un dataframe con las palabras procesadas para análisis posteriores.\n",
        "\n",
        "## Desarrollo:\n",
        "\n",
        "1. Importar librerías necesarias para procesamiento de texto, como `nltk`.  \n",
        "2. Descargar y definir las stopwords en español.\n",
        "3. Definir función para limpiar y tokenizar el texto.  \n",
        "4. Aplicar la función a la columna \"textos\" y almacenar el resultado en una nueva columna.  \n",
        "5. Crear un dataframe de palabras tokenizadas para análisis posterior."
      ]
    },
    {
      "cell_type": "code",
      "execution_count": 71,
      "id": "b5f031c5",
      "metadata": {
        "colab": {
          "base_uri": "https://localhost:8080/",
          "height": 258
        },
        "id": "b5f031c5",
        "outputId": "53597c26-2cdd-4975-88ad-c45773612be3"
      },
      "outputs": [
        {
          "name": "stderr",
          "output_type": "stream",
          "text": [
            "[nltk_data] Downloading package stopwords to\n",
            "[nltk_data]     C:\\Users\\Lenovo\\AppData\\Roaming\\nltk_data...\n",
            "[nltk_data]   Package stopwords is already up-to-date!\n"
          ]
        },
        {
          "name": "stdout",
          "output_type": "stream",
          "text": [
            "Ejemplos de tokens en los primeros textos:\n"
          ]
        },
        {
          "data": {
            "text/html": [
              "<div>\n",
              "<style scoped>\n",
              "    .dataframe tbody tr th:only-of-type {\n",
              "        vertical-align: middle;\n",
              "    }\n",
              "\n",
              "    .dataframe tbody tr th {\n",
              "        vertical-align: top;\n",
              "    }\n",
              "\n",
              "    .dataframe thead th {\n",
              "        text-align: right;\n",
              "    }\n",
              "</style>\n",
              "<table border=\"1\" class=\"dataframe\">\n",
              "  <thead>\n",
              "    <tr style=\"text-align: right;\">\n",
              "      <th></th>\n",
              "      <th>textos</th>\n",
              "      <th>tokens</th>\n",
              "    </tr>\n",
              "  </thead>\n",
              "  <tbody>\n",
              "    <tr>\n",
              "      <th>0</th>\n",
              "      <td>\"Aprendizaje\" y \"educación\" se consideran sinó...</td>\n",
              "      <td>[aprendizaje, educacion, consideran, sinonimos...</td>\n",
              "    </tr>\n",
              "    <tr>\n",
              "      <th>1</th>\n",
              "      <td>Para los niños más pequeños (bebés y niños peq...</td>\n",
              "      <td>[niños, pequeños, bebes, niños, pequeños, capa...</td>\n",
              "    </tr>\n",
              "    <tr>\n",
              "      <th>2</th>\n",
              "      <td>Además, la formación de especialistas en medic...</td>\n",
              "      <td>[ademas, formacion, especialistas, medicina, g...</td>\n",
              "    </tr>\n",
              "    <tr>\n",
              "      <th>3</th>\n",
              "      <td>En los países de la OCDE se tiende a pasar de ...</td>\n",
              "      <td>[paises, ocde, tiende, pasar, cursos, obligato...</td>\n",
              "    </tr>\n",
              "    <tr>\n",
              "      <th>4</th>\n",
              "      <td>Este grupo se centró en las personas que padec...</td>\n",
              "      <td>[grupo, centro, personas, padecen, trastornos,...</td>\n",
              "    </tr>\n",
              "  </tbody>\n",
              "</table>\n",
              "</div>"
            ],
            "text/plain": [
              "                                              textos  \\\n",
              "0  \"Aprendizaje\" y \"educación\" se consideran sinó...   \n",
              "1  Para los niños más pequeños (bebés y niños peq...   \n",
              "2  Además, la formación de especialistas en medic...   \n",
              "3  En los países de la OCDE se tiende a pasar de ...   \n",
              "4  Este grupo se centró en las personas que padec...   \n",
              "\n",
              "                                              tokens  \n",
              "0  [aprendizaje, educacion, consideran, sinonimos...  \n",
              "1  [niños, pequeños, bebes, niños, pequeños, capa...  \n",
              "2  [ademas, formacion, especialistas, medicina, g...  \n",
              "3  [paises, ocde, tiende, pasar, cursos, obligato...  \n",
              "4  [grupo, centro, personas, padecen, trastornos,...  "
            ]
          },
          "metadata": {},
          "output_type": "display_data"
        }
      ],
      "source": [
        "import nltk\n",
        "import string\n",
        "import unicodedata\n",
        "from nltk.corpus import stopwords\n",
        "\n",
        "# Descargar stopwords si no están ya descargadas\n",
        "nltk.download('stopwords')\n",
        "\n",
        "# Definir las stopwords en español\n",
        "stop_words = set(stopwords.words('spanish'))\n",
        "\n",
        "def strip_accents(s: str):\n",
        "    # Normaliza áéíóúñ -> aeioun (conservando ñ manualmente)\n",
        "    s = s.replace(\"ñ\", \"ny\")\n",
        "    s = unicodedata.normalize('NFD', s).encode('ascii', 'ignore').decode('utf-8', 'ignore')\n",
        "    s = s.replace(\"ny\", \"ñ\")\n",
        "    return s\n",
        "\n",
        "# Función para limpiar y tokenizar texto\n",
        "def clean_tokenize(text):\n",
        "    if pd.isnull(text):\n",
        "        return []\n",
        "    text = text.lower()\n",
        "    text = text.translate(str.maketrans('', '', string.punctuation))\n",
        "    tokens = text.split()\n",
        "    tokens = [word for word in tokens if word not in stop_words]\n",
        "    # Quitar tildes\n",
        "    tokens = [strip_accents(word) for word in tokens]\n",
        "    return tokens\n",
        "\n",
        "# Aplicar la función a la columna Description\n",
        "df['tokens'] = df['textos'].apply(clean_tokenize)\n",
        "\n",
        "print(\"Ejemplos de tokens en los primeros textos:\")\n",
        "display(df[['textos', 'tokens']].head())"
      ]
    },
    {
      "cell_type": "markdown",
      "id": "24a64fa5",
      "metadata": {
        "id": "24a64fa5"
      },
      "source": [
        "# 4. Análisis exploratorio de palabras más frecuentes y representativas\n",
        "\n",
        "En esta sección exploraremos las palabras extraídas en la tokenización y limpieza de los textos. Nuestro objetivo es identificar las palabras que aparecen con mayor frecuencia y que mejor se asocian al objetivo de desarrollo sostenible.\n",
        "\n",
        "## Objetivos:\n",
        "\n",
        "- Calcular la frecuencia de aparición de cada palabra en todos los textos.  \n",
        "- Visualizar las palabras más frecuentes mediante tablas y gráficos.  \n",
        "- Analizar la relevancia de las palabras para entender el vocabulario característico del dataset.\n",
        "\n",
        "## Desarrollo:\n",
        "\n",
        "1. Aplanar la lista de tokens en una sola lista.  \n",
        "2. Contar la frecuencia de cada palabra usando `Counter` de la librería `collections`.  \n",
        "3. Mostrar las 20 palabras más comunes en una tabla.  \n",
        "4. Graficar con una barra las palabras más frecuentes."
      ]
    },
    {
      "cell_type": "code",
      "execution_count": 72,
      "id": "65248d6b",
      "metadata": {
        "colab": {
          "base_uri": "https://localhost:8080/",
          "height": 1000
        },
        "id": "65248d6b",
        "outputId": "d76566a4-e519-42a0-e079-03b11d9aca7b"
      },
      "outputs": [
        {
          "name": "stdout",
          "output_type": "stream",
          "text": [
            "Las 20 palabras más frecuentes en los textos:\n"
          ]
        },
        {
          "data": {
            "text/html": [
              "<div>\n",
              "<style scoped>\n",
              "    .dataframe tbody tr th:only-of-type {\n",
              "        vertical-align: middle;\n",
              "    }\n",
              "\n",
              "    .dataframe tbody tr th {\n",
              "        vertical-align: top;\n",
              "    }\n",
              "\n",
              "    .dataframe thead th {\n",
              "        text-align: right;\n",
              "    }\n",
              "</style>\n",
              "<table border=\"1\" class=\"dataframe\">\n",
              "  <thead>\n",
              "    <tr style=\"text-align: right;\">\n",
              "      <th></th>\n",
              "      <th>Word</th>\n",
              "      <th>Frequency</th>\n",
              "    </tr>\n",
              "  </thead>\n",
              "  <tbody>\n",
              "    <tr>\n",
              "      <th>0</th>\n",
              "      <td>salud</td>\n",
              "      <td>1107</td>\n",
              "    </tr>\n",
              "    <tr>\n",
              "      <th>1</th>\n",
              "      <td>pobreza</td>\n",
              "      <td>1019</td>\n",
              "    </tr>\n",
              "    <tr>\n",
              "      <th>2</th>\n",
              "      <td>educacion</td>\n",
              "      <td>992</td>\n",
              "    </tr>\n",
              "    <tr>\n",
              "      <th>3</th>\n",
              "      <td>paises</td>\n",
              "      <td>962</td>\n",
              "    </tr>\n",
              "    <tr>\n",
              "      <th>4</th>\n",
              "      <td>atencion</td>\n",
              "      <td>900</td>\n",
              "    </tr>\n",
              "    <tr>\n",
              "      <th>5</th>\n",
              "      <td>estudiantes</td>\n",
              "      <td>741</td>\n",
              "    </tr>\n",
              "    <tr>\n",
              "      <th>6</th>\n",
              "      <td>ocde</td>\n",
              "      <td>587</td>\n",
              "    </tr>\n",
              "    <tr>\n",
              "      <th>7</th>\n",
              "      <td>escuelas</td>\n",
              "      <td>586</td>\n",
              "    </tr>\n",
              "    <tr>\n",
              "      <th>8</th>\n",
              "      <td>años</td>\n",
              "      <td>559</td>\n",
              "    </tr>\n",
              "    <tr>\n",
              "      <th>9</th>\n",
              "      <td>servicios</td>\n",
              "      <td>548</td>\n",
              "    </tr>\n",
              "    <tr>\n",
              "      <th>10</th>\n",
              "      <td>nivel</td>\n",
              "      <td>521</td>\n",
              "    </tr>\n",
              "    <tr>\n",
              "      <th>11</th>\n",
              "      <td>sistema</td>\n",
              "      <td>508</td>\n",
              "    </tr>\n",
              "    <tr>\n",
              "      <th>12</th>\n",
              "      <td>niños</td>\n",
              "      <td>479</td>\n",
              "    </tr>\n",
              "    <tr>\n",
              "      <th>13</th>\n",
              "      <td>personas</td>\n",
              "      <td>457</td>\n",
              "    </tr>\n",
              "    <tr>\n",
              "      <th>14</th>\n",
              "      <td>pueden</td>\n",
              "      <td>453</td>\n",
              "    </tr>\n",
              "    <tr>\n",
              "      <th>15</th>\n",
              "      <td>calidad</td>\n",
              "      <td>447</td>\n",
              "    </tr>\n",
              "    <tr>\n",
              "      <th>16</th>\n",
              "      <td>desarrollo</td>\n",
              "      <td>439</td>\n",
              "    </tr>\n",
              "    <tr>\n",
              "      <th>17</th>\n",
              "      <td>resultados</td>\n",
              "      <td>416</td>\n",
              "    </tr>\n",
              "    <tr>\n",
              "      <th>18</th>\n",
              "      <td>ingresos</td>\n",
              "      <td>402</td>\n",
              "    </tr>\n",
              "    <tr>\n",
              "      <th>19</th>\n",
              "      <td>aprendizaje</td>\n",
              "      <td>398</td>\n",
              "    </tr>\n",
              "  </tbody>\n",
              "</table>\n",
              "</div>"
            ],
            "text/plain": [
              "           Word  Frequency\n",
              "0         salud       1107\n",
              "1       pobreza       1019\n",
              "2     educacion        992\n",
              "3        paises        962\n",
              "4      atencion        900\n",
              "5   estudiantes        741\n",
              "6          ocde        587\n",
              "7      escuelas        586\n",
              "8          años        559\n",
              "9     servicios        548\n",
              "10        nivel        521\n",
              "11      sistema        508\n",
              "12        niños        479\n",
              "13     personas        457\n",
              "14       pueden        453\n",
              "15      calidad        447\n",
              "16   desarrollo        439\n",
              "17   resultados        416\n",
              "18     ingresos        402\n",
              "19  aprendizaje        398"
            ]
          },
          "metadata": {},
          "output_type": "display_data"
        },
        {
          "data": {
            "image/png": "[encoded data removed]",
            "text/plain": [
              "<Figure size 1200x600 with 1 Axes>"
            ]
          },
          "metadata": {},
          "output_type": "display_data"
        }
      ],
      "source": [
        "from collections import Counter\n",
        "import matplotlib.pyplot as plt\n",
        "\n",
        "# Aplanar la lista de tokens\n",
        "all_tokens = [token for tokens_list in df['tokens'] for token in tokens_list]\n",
        "\n",
        "# Contar frecuencia de palabras\n",
        "word_counts = Counter(all_tokens)\n",
        "\n",
        "# Obtener las 20 palabras más comunes\n",
        "most_common_words = word_counts.most_common(20)\n",
        "\n",
        "# Crear dataframe para visualización\n",
        "freq_df = pd.DataFrame(most_common_words, columns=['Word', 'Frequency'])\n",
        "\n",
        "print(\"Las 20 palabras más frecuentes en los textos:\")\n",
        "display(freq_df)\n",
        "\n",
        "# Graficar las palabras más frecuentes\n",
        "plt.figure(figsize=(12,6))\n",
        "plt.bar(freq_df['Word'], freq_df['Frequency'], color='skyblue')\n",
        "plt.xticks(rotation=45)\n",
        "plt.title('Las 20 palabras más frecuentes en los textos')\n",
        "plt.xlabel('Palabras')\n",
        "plt.ylabel('Frecuencia')\n",
        "plt.show()"
      ]
    },
    {
      "cell_type": "markdown",
      "id": "e28e80fe",
      "metadata": {
        "id": "e28e80fe"
      },
      "source": [
        "# 5. Descripción de la variable objetivo"
      ]
    },
    {
      "cell_type": "code",
      "execution_count": 73,
      "id": "16eabdc5",
      "metadata": {
        "colab": {
          "base_uri": "https://localhost:8080/",
          "height": 588
        },
        "id": "16eabdc5",
        "outputId": "5587a9ff-b4e9-4b2f-d342-571e2e3a1f1f"
      },
      "outputs": [
        {
          "name": "stdout",
          "output_type": "stream",
          "text": [
            "\n",
            "Distribución de niveles de label:\n",
            "labels\n",
            "4    1025\n",
            "3     894\n",
            "1     505\n",
            "Name: count, dtype: int64\n"
          ]
        },
        {
          "data": {
            "image/png": "[encoded data removed]",
            "text/plain": [
              "<Figure size 640x480 with 1 Axes>"
            ]
          },
          "metadata": {},
          "output_type": "display_data"
        }
      ],
      "source": [
        "# Mostrar conteos\n",
        "print(\"\\nDistribución de niveles de label:\")\n",
        "print(df['labels'].value_counts())\n",
        "\n",
        "# Graficar distribución\n",
        "df['labels'].value_counts().plot(kind='bar', color=['red', 'orange', 'green'])\n",
        "plt.title('Distribución de la variable categórica labels')\n",
        "plt.xlabel('Nivel')\n",
        "plt.ylabel('Cantidad')\n",
        "plt.show()"
      ]
    },
    {
      "cell_type": "markdown",
      "id": "bb6a9419",
      "metadata": {
        "id": "bb6a9419"
      },
      "source": [
        "# Limpieza más robusta (Stemming y Lematización)\n",
        "\n",
        "Se elige lematización porque es mejor en este contexto"
      ]
    },
    {
      "cell_type": "code",
      "execution_count": 74,
      "id": "ffc8a8ae",
      "metadata": {
        "colab": {
          "base_uri": "https://localhost:8080/",
          "height": 310
        },
        "id": "ffc8a8ae",
        "outputId": "74d7df83-bb2f-4b03-b48d-2e14400aa05f"
      },
      "outputs": [
        {
          "name": "stdout",
          "output_type": "stream",
          "text": [
            "Ejemplo antes/después:\n",
            "\n"
          ]
        },
        {
          "data": {
            "text/html": [
              "<div>\n",
              "<style scoped>\n",
              "    .dataframe tbody tr th:only-of-type {\n",
              "        vertical-align: middle;\n",
              "    }\n",
              "\n",
              "    .dataframe tbody tr th {\n",
              "        vertical-align: top;\n",
              "    }\n",
              "\n",
              "    .dataframe thead th {\n",
              "        text-align: right;\n",
              "    }\n",
              "</style>\n",
              "<table border=\"1\" class=\"dataframe\">\n",
              "  <thead>\n",
              "    <tr style=\"text-align: right;\">\n",
              "      <th></th>\n",
              "      <th>textos</th>\n",
              "      <th>texto_stemming</th>\n",
              "    </tr>\n",
              "  </thead>\n",
              "  <tbody>\n",
              "    <tr>\n",
              "      <th>0</th>\n",
              "      <td>\"Aprendizaje\" y \"educación\" se consideran sinó...</td>\n",
              "      <td>aprendizaj educ consider sinon escolariz forma...</td>\n",
              "    </tr>\n",
              "    <tr>\n",
              "      <th>1</th>\n",
              "      <td>Para los niños más pequeños (bebés y niños peq...</td>\n",
              "      <td>niñ mas pequeñ beb niñ pequeñ capacit especial...</td>\n",
              "    </tr>\n",
              "    <tr>\n",
              "      <th>2</th>\n",
              "      <td>Además, la formación de especialistas en medic...</td>\n",
              "      <td>adem formacion especial medicin general tambi ...</td>\n",
              "    </tr>\n",
              "    <tr>\n",
              "      <th>3</th>\n",
              "      <td>En los países de la OCDE se tiende a pasar de ...</td>\n",
              "      <td>pais ocde tiend pas curs obligatori optat abie...</td>\n",
              "    </tr>\n",
              "    <tr>\n",
              "      <th>4</th>\n",
              "      <td>Este grupo se centró en las personas que padec...</td>\n",
              "      <td>grup centr person padec trastorn mental comorb...</td>\n",
              "    </tr>\n",
              "  </tbody>\n",
              "</table>\n",
              "</div>"
            ],
            "text/plain": [
              "                                              textos  \\\n",
              "0  \"Aprendizaje\" y \"educación\" se consideran sinó...   \n",
              "1  Para los niños más pequeños (bebés y niños peq...   \n",
              "2  Además, la formación de especialistas en medic...   \n",
              "3  En los países de la OCDE se tiende a pasar de ...   \n",
              "4  Este grupo se centró en las personas que padec...   \n",
              "\n",
              "                                      texto_stemming  \n",
              "0  aprendizaj educ consider sinon escolariz forma...  \n",
              "1  niñ mas pequeñ beb niñ pequeñ capacit especial...  \n",
              "2  adem formacion especial medicin general tambi ...  \n",
              "3  pais ocde tiend pas curs obligatori optat abie...  \n",
              "4  grup centr person padec trastorn mental comorb...  "
            ]
          },
          "metadata": {},
          "output_type": "display_data"
        }
      ],
      "source": [
        "# STEMMING\n",
        "\n",
        "import re\n",
        "import spacy\n",
        "import nltk\n",
        "from nltk.corpus import stopwords\n",
        "from nltk.tokenize import word_tokenize\n",
        "from nltk.stem.snowball import SnowballStemmer\n",
        "\n",
        "# --- asegurar recursos de NLTK ---\n",
        "try:\n",
        "    _ = stopwords.words('spanish')\n",
        "except LookupError:\n",
        "    nltk.download('stopwords')\n",
        "\n",
        "try:\n",
        "    nltk.data.find('tokenizers/punkt')\n",
        "except LookupError:\n",
        "    nltk.download('punkt')\n",
        "\n",
        "try:\n",
        "    nltk.data.find('tokenizers/punkt_tab')\n",
        "except LookupError:\n",
        "    nltk.download('punkt_tab')\n",
        "\n",
        "STOP_ES = set(stopwords.words('spanish'))\n",
        "STEM = SnowballStemmer('spanish')\n",
        "\n",
        "\n",
        "def basic_clean(text: str):\n",
        "    text = text.lower()\n",
        "    text = strip_accents(text)\n",
        "    # Quitar URLs, menciones, hashtags, números\n",
        "    text = re.sub(r\"(http|https)://\\S+|www\\.\\S+\", \" \", text)\n",
        "    text = re.sub(r\"[@#]\\w+\", \" \", text)\n",
        "    text = re.sub(r\"\\d+\", \" \", text)\n",
        "    # Dejar solo letras y espacios\n",
        "    text = re.sub(r\"[^a-zñáéíóúü\\s]\", \" \", text)\n",
        "    text = re.sub(r\"\\s+\", \" \", text).strip()\n",
        "    return text\n",
        "\n",
        "def tokenize_filter_stem(text: str):\n",
        "    # Tokenizar\n",
        "    toks = word_tokenize(text, language='spanish')\n",
        "    # Filtrar: solo alfabético, quitar stopwords y tokens de 1-2 letras (ruido)\n",
        "    toks = [t for t in toks if t.isalpha() and t not in STOP_ES and len(t) > 2]\n",
        "    # Stemming español\n",
        "    toks = [STEM.stem(t) for t in toks]\n",
        "    return \" \".join(toks)\n",
        "\n",
        "def clean_pipeline(text: str):\n",
        "    if not isinstance(text, str):\n",
        "        text = \"\" if pd.isna(text) else str(text)\n",
        "    return tokenize_filter_stem(basic_clean(text))\n",
        "\n",
        "df['texto_stemming'] = df['textos'].apply(clean_pipeline)\n",
        "\n",
        "# Chequeos rápidos\n",
        "print(\"Ejemplo antes/después:\\n\")\n",
        "display(df[['textos','texto_stemming']].head())"
      ]
    },
    {
      "cell_type": "code",
      "execution_count": 75,
      "id": "00869b4b",
      "metadata": {
        "colab": {
          "base_uri": "https://localhost:8080/",
          "height": 345
        },
        "id": "00869b4b",
        "outputId": "74510a38-bd4c-4b8a-dbe6-fd09366b84bd"
      },
      "outputs": [
        {
          "name": "stdout",
          "output_type": "stream",
          "text": [
            "Ejemplo antes/después:\n",
            "\n"
          ]
        },
        {
          "data": {
            "text/html": [
              "<div>\n",
              "<style scoped>\n",
              "    .dataframe tbody tr th:only-of-type {\n",
              "        vertical-align: middle;\n",
              "    }\n",
              "\n",
              "    .dataframe tbody tr th {\n",
              "        vertical-align: top;\n",
              "    }\n",
              "\n",
              "    .dataframe thead th {\n",
              "        text-align: right;\n",
              "    }\n",
              "</style>\n",
              "<table border=\"1\" class=\"dataframe\">\n",
              "  <thead>\n",
              "    <tr style=\"text-align: right;\">\n",
              "      <th></th>\n",
              "      <th>textos</th>\n",
              "      <th>texto_lematizacion</th>\n",
              "    </tr>\n",
              "  </thead>\n",
              "  <tbody>\n",
              "    <tr>\n",
              "      <th>0</th>\n",
              "      <td>\"Aprendizaje\" y \"educación\" se consideran sinó...</td>\n",
              "      <td>aprendizaje educación considerar sinónir escol...</td>\n",
              "    </tr>\n",
              "    <tr>\n",
              "      <th>1</th>\n",
              "      <td>Para los niños más pequeños (bebés y niños peq...</td>\n",
              "      <td>niño pequeño bebé niño pequeño capacitación es...</td>\n",
              "    </tr>\n",
              "    <tr>\n",
              "      <th>2</th>\n",
              "      <td>Además, la formación de especialistas en medic...</td>\n",
              "      <td>formación especialista medicina general inclui...</td>\n",
              "    </tr>\n",
              "    <tr>\n",
              "      <th>3</th>\n",
              "      <td>En los países de la OCDE se tiende a pasar de ...</td>\n",
              "      <td>país ocde tender pasar curso obligatorio optat...</td>\n",
              "    </tr>\n",
              "    <tr>\n",
              "      <th>4</th>\n",
              "      <td>Este grupo se centró en las personas que padec...</td>\n",
              "      <td>grupo centrar persona padecer trastorno mental...</td>\n",
              "    </tr>\n",
              "  </tbody>\n",
              "</table>\n",
              "</div>"
            ],
            "text/plain": [
              "                                              textos  \\\n",
              "0  \"Aprendizaje\" y \"educación\" se consideran sinó...   \n",
              "1  Para los niños más pequeños (bebés y niños peq...   \n",
              "2  Además, la formación de especialistas en medic...   \n",
              "3  En los países de la OCDE se tiende a pasar de ...   \n",
              "4  Este grupo se centró en las personas que padec...   \n",
              "\n",
              "                                  texto_lematizacion  \n",
              "0  aprendizaje educación considerar sinónir escol...  \n",
              "1  niño pequeño bebé niño pequeño capacitación es...  \n",
              "2  formación especialista medicina general inclui...  \n",
              "3  país ocde tender pasar curso obligatorio optat...  \n",
              "4  grupo centrar persona padecer trastorno mental...  "
            ]
          },
          "metadata": {},
          "output_type": "display_data"
        }
      ],
      "source": [
        "# LEMATIZACION\n",
        "import spacy\n",
        "from spacy.cli import download\n",
        "\n",
        "try:\n",
        "    nlp = spacy.load(\"es_core_news_sm\")\n",
        "except OSError:\n",
        "    download(\"es_core_news_sm\")\n",
        "    nlp = spacy.load(\"es_core_news_sm\")\n",
        "\n",
        "nlp = spacy.load(\"es_core_news_sm\")\n",
        "\n",
        "def clean_text(text: str):\n",
        "    if not isinstance(text, str):\n",
        "        return \"\"\n",
        "    # Minúsculas\n",
        "    text = text.lower()\n",
        "    # Quitar URLs y menciones/hashtags/números\n",
        "    text = re.sub(r\"(http|https)://\\S+|www\\.\\S+\", \" \", text)\n",
        "    text = re.sub(r\"[@#]\\w+\", \" \", text)\n",
        "    text = re.sub(r\"\\d+\", \" \", text)\n",
        "    # Quitar caracteres no alfabéticos (dejamos acentos y ñ)\n",
        "    text = re.sub(r\"[^a-záéíóúüñ\\s]\", \" \", text)\n",
        "    text = re.sub(r\"\\s+\", \" \", text).strip()\n",
        "    return text\n",
        "\n",
        "def lemmatize_text(text: str):\n",
        "    doc = nlp(text)\n",
        "    toks = [tok.lemma_.lower() for tok in doc if tok.is_alpha and not tok.is_stop]\n",
        "    return \" \".join(toks)\n",
        "\n",
        "def pipeline(text: str):\n",
        "    return lemmatize_text(clean_text(text))\n",
        "\n",
        "df['texto_lematizacion'] = df['textos'].apply(pipeline)\n",
        "\n",
        "# Chequeos rápidos\n",
        "print(\"Ejemplo antes/después:\\n\")\n",
        "display(df[['textos','texto_lematizacion']].head())"
      ]
    },
    {
      "cell_type": "markdown",
      "id": "3798ef13",
      "metadata": {
        "id": "3798ef13"
      },
      "source": [
        "# TF-IDF"
      ]
    },
    {
      "cell_type": "code",
      "execution_count": 76,
      "id": "313b0f9c",
      "metadata": {
        "colab": {
          "base_uri": "https://localhost:8080/"
        },
        "id": "313b0f9c",
        "outputId": "64742e77-9a15-478d-ef00-4c3c6238b0cc"
      },
      "outputs": [
        {
          "name": "stdout",
          "output_type": "stream",
          "text": [
            "Shapes ->\n",
            "X_train: (2060, 3626)\n",
            "X_test: (364, 3626)\n"
          ]
        }
      ],
      "source": [
        "from sklearn.feature_extraction.text import TfidfVectorizer\n",
        "from sklearn.model_selection import train_test_split\n",
        "\n",
        "# Configuración TF-IDF\n",
        "tfidf = TfidfVectorizer(\n",
        "    analyzer=\"word\",\n",
        "    ngram_range=(1, 2),\n",
        "    min_df=5,           # ignora términos muy raros\n",
        "    max_df=0.9,         # ignora términos súper frecuentes (ruido)\n",
        "    sublinear_tf=True,  # tf = 1 + log(tf)\n",
        "    norm=\"l2\",          # normaliza por documento\n",
        "    lowercase=False,    # ya limpiamos/normalizamos antes\n",
        "    strip_accents=None, # preservamos acentos; ya controlados en texto\n",
        "    max_features=50000  # límite superior de vocabulario (ajustable)\n",
        ")\n",
        "\n",
        "\n",
        "\n",
        "train_df, test_df = train_test_split(\n",
        "    df, test_size=0.15, stratify=df['labels'], random_state=42\n",
        ")\n",
        "\n",
        "\n",
        "X_train = tfidf.fit_transform(train_df[\"texto_lematizacion\"].astype(str))\n",
        "#X_train = tfidf.fit_transform(train_df[\"texto_stemming\"].astype(str))\n",
        "y_train = train_df[\"labels\"].values\n",
        "\n",
        "\n",
        "X_test  = tfidf.transform(test_df[\"texto_lematizacion\"].astype(str))\n",
        "#X_test  = tfidf.transform(test_df[\"texto_stemming\"].astype(str))\n",
        "y_test  = test_df[\"labels\"].values\n",
        "\n",
        "print(\"Shapes ->\",\n",
        "      f\"X_train: {X_train.shape}\",\n",
        "      #f\"X_valid: {X_valid.shape}\",\n",
        "      f\"X_test: {X_test.shape}\",\n",
        "      sep=\"\\n\")\n"
      ]
    },
    {
      "cell_type": "markdown",
      "id": "e56fa5c8",
      "metadata": {
        "id": "e56fa5c8"
      },
      "source": [
        "# Modelo RegLog"
      ]
    },
    {
      "cell_type": "code",
      "execution_count": 77,
      "id": "c8caa3db",
      "metadata": {
        "colab": {
          "base_uri": "https://localhost:8080/"
        },
        "id": "c8caa3db",
        "outputId": "2774e9a7-6dcc-4958-ae96-79695e604207"
      },
      "outputs": [
        {
          "name": "stdout",
          "output_type": "stream",
          "text": [
            "Fitting 5 folds for each of 5 candidates, totalling 25 fits\n",
            "\n",
            "Mejor C: {'C': 5.0}  | CV f1_macro: 0.9775\n"
          ]
        },
        {
          "name": "stderr",
          "output_type": "stream",
          "text": [
            "c:\\Users\\Lenovo\\AppData\\Local\\Programs\\Python\\Python312\\Lib\\site-packages\\sklearn\\linear_model\\_logistic.py:1256: FutureWarning: 'multi_class' was deprecated in version 1.5 and will be removed in 1.7. Use OneVsRestClassifier(LogisticRegression(..)) instead. Leave it to its default value to avoid this warning.\n",
            "  warnings.warn(\n"
          ]
        }
      ],
      "source": [
        "import numpy as np\n",
        "import pandas as pd\n",
        "import matplotlib.pyplot as plt\n",
        "\n",
        "from sklearn.linear_model import LogisticRegression\n",
        "from sklearn.model_selection import StratifiedKFold, GridSearchCV\n",
        "from sklearn.metrics import (\n",
        "    classification_report, f1_score, confusion_matrix,\n",
        "    precision_recall_curve, average_precision_score\n",
        ")\n",
        "\n",
        "\n",
        "base_lr = LogisticRegression(\n",
        "    penalty=\"l2\",\n",
        "    class_weight=\"balanced\",\n",
        "    solver=\"liblinear\",\n",
        "    max_iter=2000,\n",
        "    multi_class=\"ovr\",\n",
        "    n_jobs=None\n",
        ")\n",
        "\n",
        "param_grid = {\n",
        "    \"C\": [0.1, 0.5, 1.0, 2.0, 5.0]\n",
        "}\n",
        "\n",
        "cv = StratifiedKFold(n_splits=5, shuffle=True, random_state=42)\n",
        "\n",
        "# GridSearch para hiperparámetros\n",
        "gcv = GridSearchCV(\n",
        "    estimator=base_lr,\n",
        "    param_grid=param_grid,\n",
        "    scoring=\"f1_macro\",\n",
        "    cv=cv,\n",
        "    n_jobs=-1,\n",
        "    verbose=1\n",
        ")\n",
        "\n",
        "gcv.fit(X_train, y_train)\n",
        "best_lr = gcv.best_estimator_\n",
        "print(\"\\nMejor C:\", gcv.best_params_, \" | CV f1_macro:\", round(gcv.best_score_, 4))"
      ]
    },
    {
      "cell_type": "code",
      "execution_count": 78,
      "id": "8cb008d5",
      "metadata": {
        "colab": {
          "base_uri": "https://localhost:8080/",
          "height": 715
        },
        "id": "8cb008d5",
        "outputId": "c9fa117b-7559-479c-f84b-2360620e0e5c"
      },
      "outputs": [
        {
          "name": "stdout",
          "output_type": "stream",
          "text": [
            "\n",
            "TRAIN — Macro F1: 0.999\n",
            "\n",
            "TRAIN — Reporte por clase:\n",
            "              precision    recall  f1-score   support\n",
            "\n",
            "           1      0.998     1.000     0.999       429\n",
            "           3      0.999     0.999     0.999       760\n",
            "           4      1.000     0.999     0.999       871\n",
            "\n",
            "    accuracy                          0.999      2060\n",
            "   macro avg      0.999     0.999     0.999      2060\n",
            "weighted avg      0.999     0.999     0.999      2060\n",
            "\n"
          ]
        },
        {
          "data": {
            "image/png": "[encoded data removed]",
            "text/plain": [
              "<Figure size 640x480 with 2 Axes>"
            ]
          },
          "metadata": {},
          "output_type": "display_data"
        }
      ],
      "source": [
        "\n",
        "from sklearn.metrics import ConfusionMatrixDisplay\n",
        "\n",
        "\n",
        "classes = sorted(np.unique(y_train))\n",
        "\n",
        "y_train_pred = best_lr.predict(X_train)\n",
        "print(\"\\nTRAIN — Macro F1:\", round(f1_score(y_train, y_train_pred, average=\"macro\"), 4))\n",
        "print(\"\\nTRAIN — Reporte por clase:\")\n",
        "print(classification_report(y_train, y_train_pred, digits=3))\n",
        "\n",
        "cm_t = confusion_matrix(y_train, y_train_pred, labels=classes)\n",
        "\n",
        "disp = ConfusionMatrixDisplay(confusion_matrix=cm_t, display_labels=classes)\n",
        "disp.plot(cmap=plt.cm.Blues)\n",
        "plt.title(\"Matriz de confusión — TRAIN (LogReg)\")\n",
        "plt.show()"
      ]
    },
    {
      "cell_type": "code",
      "execution_count": 79,
      "id": "aecdb9b8",
      "metadata": {
        "colab": {
          "base_uri": "https://localhost:8080/",
          "height": 715
        },
        "id": "aecdb9b8",
        "outputId": "b1809ebf-6fba-4c67-8412-91aa48b78ba3"
      },
      "outputs": [
        {
          "name": "stdout",
          "output_type": "stream",
          "text": [
            "\n",
            "TEST — Macro F1: 0.9703\n",
            "\n",
            "TEST — Reporte por clase:\n",
            "              precision    recall  f1-score   support\n",
            "\n",
            "           1      0.973     0.947     0.960        76\n",
            "           3      0.970     0.970     0.970       134\n",
            "           4      0.974     0.987     0.981       154\n",
            "\n",
            "    accuracy                          0.973       364\n",
            "   macro avg      0.972     0.968     0.970       364\n",
            "weighted avg      0.973     0.973     0.972       364\n",
            "\n"
          ]
        },
        {
          "data": {
            "image/png": "[encoded data removed]",
            "text/plain": [
              "<Figure size 640x480 with 2 Axes>"
            ]
          },
          "metadata": {},
          "output_type": "display_data"
        }
      ],
      "source": [
        "\n",
        "y_test_pred = best_lr.predict(X_test)\n",
        "print(\"\\nTEST — Macro F1:\", round(f1_score(y_test, y_test_pred, average=\"macro\"), 4))\n",
        "print(\"\\nTEST — Reporte por clase:\")\n",
        "print(classification_report(y_test, y_test_pred, digits=3))\n",
        "\n",
        "cm_t = confusion_matrix(y_test, y_test_pred, labels=classes)\n",
        "disp = ConfusionMatrixDisplay(confusion_matrix=cm_t, display_labels=classes)\n",
        "disp.plot(cmap=plt.cm.Blues)\n",
        "plt.title(\"Matriz de confusión — TEST (LogReg)\")\n",
        "plt.show()"
      ]
    },
    {
      "cell_type": "code",
      "execution_count": 80,
      "id": "b0f1d203",
      "metadata": {
        "colab": {
          "base_uri": "https://localhost:8080/"
        },
        "id": "b0f1d203",
        "outputId": "9d73538d-94f0-424a-e602-d8faee7c5892"
      },
      "outputs": [
        {
          "data": {
            "text/plain": [
              "['models/tfidf.pkl']"
            ]
          },
          "execution_count": 80,
          "metadata": {},
          "output_type": "execute_result"
        }
      ],
      "source": [
        "import joblib\n",
        "joblib.dump(best_lr, \"models/best_lr.pkl\")\n",
        "joblib.dump(tfidf, \"models/tfidf.pkl\")"
      ]
    },
    {
      "cell_type": "code",
      "execution_count": 81,
      "id": "4c845a29",
      "metadata": {
        "colab": {
          "base_uri": "https://localhost:8080/"
        },
        "id": "4c845a29",
        "outputId": "54d854d8-211d-4d51-e3c4-9aa8b3dc3d7a"
      },
      "outputs": [
        {
          "name": "stdout",
          "output_type": "stream",
          "text": [
            "\n",
            "Top 20 términos indicativos para ODS 1:\n",
            "vivir                            2.0898\n",
            "relativo                         2.1401\n",
            "brasil                           2.1648\n",
            "pobreza infantil                 2.2070\n",
            "crecimiento                      2.2878\n",
            "umbral                           2.3092\n",
            "familia                          2.3181\n",
            "niño                             2.4310\n",
            "multidimensional                 2.4399\n",
            "vivienda                         2.5721\n",
            "transferencia                    2.7614\n",
            "protección                       3.1352\n",
            "empleo                           3.1861\n",
            "protección social                3.6282\n",
            "social                           4.0376\n",
            "privación                        4.5672\n",
            "ingreso                          4.9931\n",
            "hogar                            5.4004\n",
            "pobre                            7.3972\n",
            "pobreza                          15.0379\n",
            "\n",
            "Top 20 términos indicativos para ODS 3:\n",
            "vih                              2.2642\n",
            "salud mental                     2.4110\n",
            "hospitalario                     2.4734\n",
            "clínico                          2.5061\n",
            "servicio                         2.5451\n",
            "consumo                          2.6110\n",
            "atención primario                2.6288\n",
            "medicamento                      3.1027\n",
            "alcohol                          3.1807\n",
            "mortalidad                       3.2231\n",
            "droga                            3.4459\n",
            "mental                           3.4481\n",
            "tratamiento                      3.4523\n",
            "hospital                         3.5104\n",
            "paciente                         4.8939\n",
            "sanitario                        4.8995\n",
            "enfermedad                       4.9214\n",
            "atención                         5.5407\n",
            "médico                           5.8126\n",
            "salud                            10.3178\n",
            "\n",
            "Top 20 términos indicativos para ODS 4:\n",
            "infancia                         2.1037\n",
            "universidad                      2.1609\n",
            "ciencia                          2.1619\n",
            "superior                         2.1654\n",
            "pisa                             2.2843\n",
            "sistema educativo                2.3407\n",
            "formación                        2.7878\n",
            "evaluación                       2.8572\n",
            "maestro                          3.2182\n",
            "habilidad                        3.2764\n",
            "enseñanza                        3.3081\n",
            "profesor                         3.8432\n",
            "alumno                           4.2905\n",
            "aprendizaje                      4.5548\n",
            "escolar                          4.7132\n",
            "docente                          4.9516\n",
            "educativo                        5.7482\n",
            "estudiante                       6.4531\n",
            "escuela                          7.8043\n",
            "educación                        8.8429\n"
          ]
        }
      ],
      "source": [
        "\n",
        "feature_names = np.array(tfidf.get_feature_names_out())\n",
        "coefs = best_lr.coef_  # shape: (n_classes, n_features)\n",
        "TOPK = 20\n",
        "\n",
        "for idx, c in enumerate(classes):\n",
        "    top_idx = np.argsort(coefs[idx])[-TOPK:]\n",
        "    terms = feature_names[top_idx]\n",
        "    weights = coefs[idx][top_idx]\n",
        "    order = np.argsort(weights)\n",
        "    terms = terms[order]\n",
        "    weights = weights[order]\n",
        "    print(f\"\\nTop {TOPK} términos indicativos para ODS {c}:\")\n",
        "    for t, w in zip(terms, weights):\n",
        "        print(f\"{t:30s}  {w: .4f}\")"
      ]
    },
    {
      "cell_type": "markdown",
      "id": "82bd6512",
      "metadata": {
        "id": "82bd6512"
      },
      "source": [
        "# Aplicación modelo RegLog"
      ]
    },
    {
      "cell_type": "code",
      "execution_count": 82,
      "id": "5c6eda9b",
      "metadata": {
        "colab": {
          "base_uri": "https://localhost:8080/"
        },
        "id": "5c6eda9b",
        "outputId": "4d156534-746f-4bf6-e938-eb9702589b7e"
      },
      "outputs": [
        {
          "name": "stdout",
          "output_type": "stream",
          "text": [
            "\n",
            "Listo. Archivos generados:\n",
            "- outputs/predicciones_logreg.xlsx\n"
          ]
        }
      ],
      "source": [
        "new_df = pd.read_excel('data/Datos de prueba_proyecto.xlsx')\n",
        "best_lr = joblib.load(\"models/best_lr.pkl\")\n",
        "tfidf = joblib.load(\"models/tfidf.pkl\")\n",
        "\n",
        "\n",
        "if \"id\" not in new_df.columns:\n",
        "    new_df = new_df.reset_index(drop=False).rename(columns={\"index\": \"id\"})\n",
        "new_df[\"id\"] = new_df[\"id\"] + 1\n",
        "\n",
        "# preprocesamiento con lematización\n",
        "new_df[\"text_lematizacion\"] = new_df[\"Textos_espanol\"].apply(pipeline)\n",
        "\n",
        "# usar el mismo tfidf que se entrenó\n",
        "X_nuevo = tfidf.transform(new_df[\"text_lematizacion\"].astype(str))\n",
        "\n",
        "# predicción\n",
        "y_nuevo_pred = best_lr.predict(X_nuevo)\n",
        "\n",
        "out = pd.concat(\n",
        "    [\n",
        "        new_df[[\"id\", \"Textos_espanol\"]].reset_index(drop=True),\n",
        "        pd.Series(y_nuevo_pred, name=\"pred_label\").reset_index(drop=True)\n",
        "    ],\n",
        "    axis=1\n",
        ")\n",
        "\n",
        "out.to_excel(\"outputs/predicciones_logreg.xlsx\", index=False)\n",
        "\n",
        "print(\"\\nListo. Archivos generados:\")\n",
        "print(\"- outputs/predicciones_logreg.xlsx\")\n"
      ]
    },
    {
      "cell_type": "markdown",
      "id": "dfb7a99e",
      "metadata": {
        "id": "dfb7a99e"
      },
      "source": [
        "# Árbol de decisión"
      ]
    },
    {
      "cell_type": "code",
      "execution_count": 83,
      "id": "f1aa8c65",
      "metadata": {
        "colab": {
          "base_uri": "https://localhost:8080/",
          "height": 165
        },
        "id": "f1aa8c65",
        "outputId": "fa11476e-96ec-489a-9744-90cd4b18ab53"
      },
      "outputs": [
        {
          "data": {
            "text/html": [
              "<style>#sk-container-id-6 {\n",
              "  /* Definition of color scheme common for light and dark mode */\n",
              "  --sklearn-color-text: #000;\n",
              "  --sklearn-color-text-muted: #666;\n",
              "  --sklearn-color-line: gray;\n",
              "  /* Definition of color scheme for unfitted estimators */\n",
              "  --sklearn-color-unfitted-level-0: #fff5e6;\n",
              "  --sklearn-color-unfitted-level-1: #f6e4d2;\n",
              "  --sklearn-color-unfitted-level-2: #ffe0b3;\n",
              "  --sklearn-color-unfitted-level-3: chocolate;\n",
              "  /* Definition of color scheme for fitted estimators */\n",
              "  --sklearn-color-fitted-level-0: #f0f8ff;\n",
              "  --sklearn-color-fitted-level-1: #d4ebff;\n",
              "  --sklearn-color-fitted-level-2: #b3dbfd;\n",
              "  --sklearn-color-fitted-level-3: cornflowerblue;\n",
              "\n",
              "  /* Specific color for light theme */\n",
              "  --sklearn-color-text-on-default-background: var(--sg-text-color, var(--theme-code-foreground, var(--jp-content-font-color1, black)));\n",
              "  --sklearn-color-background: var(--sg-background-color, var(--theme-background, var(--jp-layout-color0, white)));\n",
              "  --sklearn-color-border-box: var(--sg-text-color, var(--theme-code-foreground, var(--jp-content-font-color1, black)));\n",
              "  --sklearn-color-icon: #696969;\n",
              "\n",
              "  @media (prefers-color-scheme: dark) {\n",
              "    /* Redefinition of color scheme for dark theme */\n",
              "    --sklearn-color-text-on-default-background: var(--sg-text-color, var(--theme-code-foreground, var(--jp-content-font-color1, white)));\n",
              "    --sklearn-color-background: var(--sg-background-color, var(--theme-background, var(--jp-layout-color0, #111)));\n",
              "    --sklearn-color-border-box: var(--sg-text-color, var(--theme-code-foreground, var(--jp-content-font-color1, white)));\n",
              "    --sklearn-color-icon: #878787;\n",
              "  }\n",
              "}\n",
              "\n",
              "#sk-container-id-6 {\n",
              "  color: var(--sklearn-color-text);\n",
              "}\n",
              "\n",
              "#sk-container-id-6 pre {\n",
              "  padding: 0;\n",
              "}\n",
              "\n",
              "#sk-container-id-6 input.sk-hidden--visually {\n",
              "  border: 0;\n",
              "  clip: rect(1px 1px 1px 1px);\n",
              "  clip: rect(1px, 1px, 1px, 1px);\n",
              "  height: 1px;\n",
              "  margin: -1px;\n",
              "  overflow: hidden;\n",
              "  padding: 0;\n",
              "  position: absolute;\n",
              "  width: 1px;\n",
              "}\n",
              "\n",
              "#sk-container-id-6 div.sk-dashed-wrapped {\n",
              "  border: 1px dashed var(--sklearn-color-line);\n",
              "  margin: 0 0.4em 0.5em 0.4em;\n",
              "  box-sizing: border-box;\n",
              "  padding-bottom: 0.4em;\n",
              "  background-color: var(--sklearn-color-background);\n",
              "}\n",
              "\n",
              "#sk-container-id-6 div.sk-container {\n",
              "  /* jupyter's `normalize.less` sets `[hidden] { display: none; }`\n",
              "     but bootstrap.min.css set `[hidden] { display: none !important; }`\n",
              "     so we also need the `!important` here to be able to override the\n",
              "     default hidden behavior on the sphinx rendered scikit-learn.org.\n",
              "     See: https://github.com/scikit-learn/scikit-learn/issues/21755 */\n",
              "  display: inline-block !important;\n",
              "  position: relative;\n",
              "}\n",
              "\n",
              "#sk-container-id-6 div.sk-text-repr-fallback {\n",
              "  display: none;\n",
              "}\n",
              "\n",
              "div.sk-parallel-item,\n",
              "div.sk-serial,\n",
              "div.sk-item {\n",
              "  /* draw centered vertical line to link estimators */\n",
              "  background-image: linear-gradient(var(--sklearn-color-text-on-default-background), var(--sklearn-color-text-on-default-background));\n",
              "  background-size: 2px 100%;\n",
              "  background-repeat: no-repeat;\n",
              "  background-position: center center;\n",
              "}\n",
              "\n",
              "/* Parallel-specific style estimator block */\n",
              "\n",
              "#sk-container-id-6 div.sk-parallel-item::after {\n",
              "  content: \"\";\n",
              "  width: 100%;\n",
              "  border-bottom: 2px solid var(--sklearn-color-text-on-default-background);\n",
              "  flex-grow: 1;\n",
              "}\n",
              "\n",
              "#sk-container-id-6 div.sk-parallel {\n",
              "  display: flex;\n",
              "  align-items: stretch;\n",
              "  justify-content: center;\n",
              "  background-color: var(--sklearn-color-background);\n",
              "  position: relative;\n",
              "}\n",
              "\n",
              "#sk-container-id-6 div.sk-parallel-item {\n",
              "  display: flex;\n",
              "  flex-direction: column;\n",
              "}\n",
              "\n",
              "#sk-container-id-6 div.sk-parallel-item:first-child::after {\n",
              "  align-self: flex-end;\n",
              "  width: 50%;\n",
              "}\n",
              "\n",
              "#sk-container-id-6 div.sk-parallel-item:last-child::after {\n",
              "  align-self: flex-start;\n",
              "  width: 50%;\n",
              "}\n",
              "\n",
              "#sk-container-id-6 div.sk-parallel-item:only-child::after {\n",
              "  width: 0;\n",
              "}\n",
              "\n",
              "/* Serial-specific style estimator block */\n",
              "\n",
              "#sk-container-id-6 div.sk-serial {\n",
              "  display: flex;\n",
              "  flex-direction: column;\n",
              "  align-items: center;\n",
              "  background-color: var(--sklearn-color-background);\n",
              "  padding-right: 1em;\n",
              "  padding-left: 1em;\n",
              "}\n",
              "\n",
              "\n",
              "/* Toggleable style: style used for estimator/Pipeline/ColumnTransformer box that is\n",
              "clickable and can be expanded/collapsed.\n",
              "- Pipeline and ColumnTransformer use this feature and define the default style\n",
              "- Estimators will overwrite some part of the style using the `sk-estimator` class\n",
              "*/\n",
              "\n",
              "/* Pipeline and ColumnTransformer style (default) */\n",
              "\n",
              "#sk-container-id-6 div.sk-toggleable {\n",
              "  /* Default theme specific background. It is overwritten whether we have a\n",
              "  specific estimator or a Pipeline/ColumnTransformer */\n",
              "  background-color: var(--sklearn-color-background);\n",
              "}\n",
              "\n",
              "/* Toggleable label */\n",
              "#sk-container-id-6 label.sk-toggleable__label {\n",
              "  cursor: pointer;\n",
              "  display: flex;\n",
              "  width: 100%;\n",
              "  margin-bottom: 0;\n",
              "  padding: 0.5em;\n",
              "  box-sizing: border-box;\n",
              "  text-align: center;\n",
              "  align-items: start;\n",
              "  justify-content: space-between;\n",
              "  gap: 0.5em;\n",
              "}\n",
              "\n",
              "#sk-container-id-6 label.sk-toggleable__label .caption {\n",
              "  font-size: 0.6rem;\n",
              "  font-weight: lighter;\n",
              "  color: var(--sklearn-color-text-muted);\n",
              "}\n",
              "\n",
              "#sk-container-id-6 label.sk-toggleable__label-arrow:before {\n",
              "  /* Arrow on the left of the label */\n",
              "  content: \"▸\";\n",
              "  float: left;\n",
              "  margin-right: 0.25em;\n",
              "  color: var(--sklearn-color-icon);\n",
              "}\n",
              "\n",
              "#sk-container-id-6 label.sk-toggleable__label-arrow:hover:before {\n",
              "  color: var(--sklearn-color-text);\n",
              "}\n",
              "\n",
              "/* Toggleable content - dropdown */\n",
              "\n",
              "#sk-container-id-6 div.sk-toggleable__content {\n",
              "  max-height: 0;\n",
              "  max-width: 0;\n",
              "  overflow: hidden;\n",
              "  text-align: left;\n",
              "  /* unfitted */\n",
              "  background-color: var(--sklearn-color-unfitted-level-0);\n",
              "}\n",
              "\n",
              "#sk-container-id-6 div.sk-toggleable__content.fitted {\n",
              "  /* fitted */\n",
              "  background-color: var(--sklearn-color-fitted-level-0);\n",
              "}\n",
              "\n",
              "#sk-container-id-6 div.sk-toggleable__content pre {\n",
              "  margin: 0.2em;\n",
              "  border-radius: 0.25em;\n",
              "  color: var(--sklearn-color-text);\n",
              "  /* unfitted */\n",
              "  background-color: var(--sklearn-color-unfitted-level-0);\n",
              "}\n",
              "\n",
              "#sk-container-id-6 div.sk-toggleable__content.fitted pre {\n",
              "  /* unfitted */\n",
              "  background-color: var(--sklearn-color-fitted-level-0);\n",
              "}\n",
              "\n",
              "#sk-container-id-6 input.sk-toggleable__control:checked~div.sk-toggleable__content {\n",
              "  /* Expand drop-down */\n",
              "  max-height: 200px;\n",
              "  max-width: 100%;\n",
              "  overflow: auto;\n",
              "}\n",
              "\n",
              "#sk-container-id-6 input.sk-toggleable__control:checked~label.sk-toggleable__label-arrow:before {\n",
              "  content: \"▾\";\n",
              "}\n",
              "\n",
              "/* Pipeline/ColumnTransformer-specific style */\n",
              "\n",
              "#sk-container-id-6 div.sk-label input.sk-toggleable__control:checked~label.sk-toggleable__label {\n",
              "  color: var(--sklearn-color-text);\n",
              "  background-color: var(--sklearn-color-unfitted-level-2);\n",
              "}\n",
              "\n",
              "#sk-container-id-6 div.sk-label.fitted input.sk-toggleable__control:checked~label.sk-toggleable__label {\n",
              "  background-color: var(--sklearn-color-fitted-level-2);\n",
              "}\n",
              "\n",
              "/* Estimator-specific style */\n",
              "\n",
              "/* Colorize estimator box */\n",
              "#sk-container-id-6 div.sk-estimator input.sk-toggleable__control:checked~label.sk-toggleable__label {\n",
              "  /* unfitted */\n",
              "  background-color: var(--sklearn-color-unfitted-level-2);\n",
              "}\n",
              "\n",
              "#sk-container-id-6 div.sk-estimator.fitted input.sk-toggleable__control:checked~label.sk-toggleable__label {\n",
              "  /* fitted */\n",
              "  background-color: var(--sklearn-color-fitted-level-2);\n",
              "}\n",
              "\n",
              "#sk-container-id-6 div.sk-label label.sk-toggleable__label,\n",
              "#sk-container-id-6 div.sk-label label {\n",
              "  /* The background is the default theme color */\n",
              "  color: var(--sklearn-color-text-on-default-background);\n",
              "}\n",
              "\n",
              "/* On hover, darken the color of the background */\n",
              "#sk-container-id-6 div.sk-label:hover label.sk-toggleable__label {\n",
              "  color: var(--sklearn-color-text);\n",
              "  background-color: var(--sklearn-color-unfitted-level-2);\n",
              "}\n",
              "\n",
              "/* Label box, darken color on hover, fitted */\n",
              "#sk-container-id-6 div.sk-label.fitted:hover label.sk-toggleable__label.fitted {\n",
              "  color: var(--sklearn-color-text);\n",
              "  background-color: var(--sklearn-color-fitted-level-2);\n",
              "}\n",
              "\n",
              "/* Estimator label */\n",
              "\n",
              "#sk-container-id-6 div.sk-label label {\n",
              "  font-family: monospace;\n",
              "  font-weight: bold;\n",
              "  display: inline-block;\n",
              "  line-height: 1.2em;\n",
              "}\n",
              "\n",
              "#sk-container-id-6 div.sk-label-container {\n",
              "  text-align: center;\n",
              "}\n",
              "\n",
              "/* Estimator-specific */\n",
              "#sk-container-id-6 div.sk-estimator {\n",
              "  font-family: monospace;\n",
              "  border: 1px dotted var(--sklearn-color-border-box);\n",
              "  border-radius: 0.25em;\n",
              "  box-sizing: border-box;\n",
              "  margin-bottom: 0.5em;\n",
              "  /* unfitted */\n",
              "  background-color: var(--sklearn-color-unfitted-level-0);\n",
              "}\n",
              "\n",
              "#sk-container-id-6 div.sk-estimator.fitted {\n",
              "  /* fitted */\n",
              "  background-color: var(--sklearn-color-fitted-level-0);\n",
              "}\n",
              "\n",
              "/* on hover */\n",
              "#sk-container-id-6 div.sk-estimator:hover {\n",
              "  /* unfitted */\n",
              "  background-color: var(--sklearn-color-unfitted-level-2);\n",
              "}\n",
              "\n",
              "#sk-container-id-6 div.sk-estimator.fitted:hover {\n",
              "  /* fitted */\n",
              "  background-color: var(--sklearn-color-fitted-level-2);\n",
              "}\n",
              "\n",
              "/* Specification for estimator info (e.g. \"i\" and \"?\") */\n",
              "\n",
              "/* Common style for \"i\" and \"?\" */\n",
              "\n",
              ".sk-estimator-doc-link,\n",
              "a:link.sk-estimator-doc-link,\n",
              "a:visited.sk-estimator-doc-link {\n",
              "  float: right;\n",
              "  font-size: smaller;\n",
              "  line-height: 1em;\n",
              "  font-family: monospace;\n",
              "  background-color: var(--sklearn-color-background);\n",
              "  border-radius: 1em;\n",
              "  height: 1em;\n",
              "  width: 1em;\n",
              "  text-decoration: none !important;\n",
              "  margin-left: 0.5em;\n",
              "  text-align: center;\n",
              "  /* unfitted */\n",
              "  border: var(--sklearn-color-unfitted-level-1) 1pt solid;\n",
              "  color: var(--sklearn-color-unfitted-level-1);\n",
              "}\n",
              "\n",
              ".sk-estimator-doc-link.fitted,\n",
              "a:link.sk-estimator-doc-link.fitted,\n",
              "a:visited.sk-estimator-doc-link.fitted {\n",
              "  /* fitted */\n",
              "  border: var(--sklearn-color-fitted-level-1) 1pt solid;\n",
              "  color: var(--sklearn-color-fitted-level-1);\n",
              "}\n",
              "\n",
              "/* On hover */\n",
              "div.sk-estimator:hover .sk-estimator-doc-link:hover,\n",
              ".sk-estimator-doc-link:hover,\n",
              "div.sk-label-container:hover .sk-estimator-doc-link:hover,\n",
              ".sk-estimator-doc-link:hover {\n",
              "  /* unfitted */\n",
              "  background-color: var(--sklearn-color-unfitted-level-3);\n",
              "  color: var(--sklearn-color-background);\n",
              "  text-decoration: none;\n",
              "}\n",
              "\n",
              "div.sk-estimator.fitted:hover .sk-estimator-doc-link.fitted:hover,\n",
              ".sk-estimator-doc-link.fitted:hover,\n",
              "div.sk-label-container:hover .sk-estimator-doc-link.fitted:hover,\n",
              ".sk-estimator-doc-link.fitted:hover {\n",
              "  /* fitted */\n",
              "  background-color: var(--sklearn-color-fitted-level-3);\n",
              "  color: var(--sklearn-color-background);\n",
              "  text-decoration: none;\n",
              "}\n",
              "\n",
              "/* Span, style for the box shown on hovering the info icon */\n",
              ".sk-estimator-doc-link span {\n",
              "  display: none;\n",
              "  z-index: 9999;\n",
              "  position: relative;\n",
              "  font-weight: normal;\n",
              "  right: .2ex;\n",
              "  padding: .5ex;\n",
              "  margin: .5ex;\n",
              "  width: min-content;\n",
              "  min-width: 20ex;\n",
              "  max-width: 50ex;\n",
              "  color: var(--sklearn-color-text);\n",
              "  box-shadow: 2pt 2pt 4pt #999;\n",
              "  /* unfitted */\n",
              "  background: var(--sklearn-color-unfitted-level-0);\n",
              "  border: .5pt solid var(--sklearn-color-unfitted-level-3);\n",
              "}\n",
              "\n",
              ".sk-estimator-doc-link.fitted span {\n",
              "  /* fitted */\n",
              "  background: var(--sklearn-color-fitted-level-0);\n",
              "  border: var(--sklearn-color-fitted-level-3);\n",
              "}\n",
              "\n",
              ".sk-estimator-doc-link:hover span {\n",
              "  display: block;\n",
              "}\n",
              "\n",
              "/* \"?\"-specific style due to the `<a>` HTML tag */\n",
              "\n",
              "#sk-container-id-6 a.estimator_doc_link {\n",
              "  float: right;\n",
              "  font-size: 1rem;\n",
              "  line-height: 1em;\n",
              "  font-family: monospace;\n",
              "  background-color: var(--sklearn-color-background);\n",
              "  border-radius: 1rem;\n",
              "  height: 1rem;\n",
              "  width: 1rem;\n",
              "  text-decoration: none;\n",
              "  /* unfitted */\n",
              "  color: var(--sklearn-color-unfitted-level-1);\n",
              "  border: var(--sklearn-color-unfitted-level-1) 1pt solid;\n",
              "}\n",
              "\n",
              "#sk-container-id-6 a.estimator_doc_link.fitted {\n",
              "  /* fitted */\n",
              "  border: var(--sklearn-color-fitted-level-1) 1pt solid;\n",
              "  color: var(--sklearn-color-fitted-level-1);\n",
              "}\n",
              "\n",
              "/* On hover */\n",
              "#sk-container-id-6 a.estimator_doc_link:hover {\n",
              "  /* unfitted */\n",
              "  background-color: var(--sklearn-color-unfitted-level-3);\n",
              "  color: var(--sklearn-color-background);\n",
              "  text-decoration: none;\n",
              "}\n",
              "\n",
              "#sk-container-id-6 a.estimator_doc_link.fitted:hover {\n",
              "  /* fitted */\n",
              "  background-color: var(--sklearn-color-fitted-level-3);\n",
              "}\n",
              "</style><div id=\"sk-container-id-6\" class=\"sk-top-container\"><div class=\"sk-text-repr-fallback\"><pre>GridSearchCV(cv=KFold(n_splits=10, random_state=0, shuffle=True),\n",
              "             estimator=DecisionTreeClassifier(random_state=0),\n",
              "             param_grid={&#x27;criterion&#x27;: [&#x27;gini&#x27;, &#x27;entropy&#x27;],\n",
              "                         &#x27;max_depth&#x27;: [4, 6, 8, 10, 20, 30, 40]})</pre><b>In a Jupyter environment, please rerun this cell to show the HTML representation or trust the notebook. <br />On GitHub, the HTML representation is unable to render, please try loading this page with nbviewer.org.</b></div><div class=\"sk-container\" hidden><div class=\"sk-item sk-dashed-wrapped\"><div class=\"sk-label-container\"><div class=\"sk-label  sk-toggleable\"><input class=\"sk-toggleable__control sk-hidden--visually\" id=\"sk-estimator-id-16\" type=\"checkbox\" ><label for=\"sk-estimator-id-16\" class=\"sk-toggleable__label  sk-toggleable__label-arrow\"><div><div>GridSearchCV</div></div><div><a class=\"sk-estimator-doc-link \" rel=\"noreferrer\" target=\"_blank\" href=\"https://scikit-learn.org/1.6/modules/generated/sklearn.model_selection.GridSearchCV.html\">?<span>Documentation for GridSearchCV</span></a><span class=\"sk-estimator-doc-link \">i<span>Not fitted</span></span></div></label><div class=\"sk-toggleable__content \"><pre>GridSearchCV(cv=KFold(n_splits=10, random_state=0, shuffle=True),\n",
              "             estimator=DecisionTreeClassifier(random_state=0),\n",
              "             param_grid={&#x27;criterion&#x27;: [&#x27;gini&#x27;, &#x27;entropy&#x27;],\n",
              "                         &#x27;max_depth&#x27;: [4, 6, 8, 10, 20, 30, 40]})</pre></div> </div></div><div class=\"sk-parallel\"><div class=\"sk-parallel-item\"><div class=\"sk-item\"><div class=\"sk-label-container\"><div class=\"sk-label  sk-toggleable\"><input class=\"sk-toggleable__control sk-hidden--visually\" id=\"sk-estimator-id-17\" type=\"checkbox\" ><label for=\"sk-estimator-id-17\" class=\"sk-toggleable__label  sk-toggleable__label-arrow\"><div><div>estimator: DecisionTreeClassifier</div></div></label><div class=\"sk-toggleable__content \"><pre>DecisionTreeClassifier(random_state=0)</pre></div> </div></div><div class=\"sk-serial\"><div class=\"sk-item\"><div class=\"sk-estimator  sk-toggleable\"><input class=\"sk-toggleable__control sk-hidden--visually\" id=\"sk-estimator-id-18\" type=\"checkbox\" ><label for=\"sk-estimator-id-18\" class=\"sk-toggleable__label  sk-toggleable__label-arrow\"><div><div>DecisionTreeClassifier</div></div><div><a class=\"sk-estimator-doc-link \" rel=\"noreferrer\" target=\"_blank\" href=\"https://scikit-learn.org/1.6/modules/generated/sklearn.tree.DecisionTreeClassifier.html\">?<span>Documentation for DecisionTreeClassifier</span></a></div></label><div class=\"sk-toggleable__content \"><pre>DecisionTreeClassifier(random_state=0)</pre></div> </div></div></div></div></div></div></div></div></div>"
            ],
            "text/plain": [
              "GridSearchCV(cv=KFold(n_splits=10, random_state=0, shuffle=True),\n",
              "             estimator=DecisionTreeClassifier(random_state=0),\n",
              "             param_grid={'criterion': ['gini', 'entropy'],\n",
              "                         'max_depth': [4, 6, 8, 10, 20, 30, 40]})"
            ]
          },
          "metadata": {},
          "output_type": "display_data"
        }
      ],
      "source": [
        "\n",
        "from sklearn.model_selection import KFold\n",
        "from sklearn.tree import DecisionTreeClassifier\n",
        "\n",
        "\n",
        "Y=df['labels']\n",
        "X=df.drop(['labels'], axis=1)\n",
        "\n",
        "# Dividimos los datos en entrenamiento y test\n",
        "#X_train, X_test, Y_train, Y_test = train_test_split(X, Y, test_size=0.2, random_state=0)\n",
        "\n",
        "train_df, test_df = train_test_split(\n",
        "    df, test_size=0.15, stratify=df['labels'], random_state=0\n",
        ")\n",
        "\n",
        "X_train = tfidf.fit_transform(train_df[\"texto_lematizacion\"].astype(str))\n",
        "#X_train = tfidf.fit_transform(train_df[\"texto_stemming\"].astype(str))\n",
        "y_train = train_df[\"labels\"].values\n",
        "\n",
        "\n",
        "X_test  = tfidf.transform(test_df[\"texto_lematizacion\"].astype(str))\n",
        "#X_test  = tfidf.transform(test_df[\"texto_stemming\"].astype(str))\n",
        "y_test  = test_df[\"labels\"].values\n",
        "\n",
        "\n",
        "particiones = KFold(n_splits=10, shuffle=True, random_state = 0)\n",
        "param_grid = {'criterion':['gini', 'entropy'],'max_depth':[4,6,8,10,20,30,40]}\n",
        "\n",
        "arbol = DecisionTreeClassifier(random_state = 0)\n",
        "mejor_modelo = GridSearchCV(arbol, param_grid, cv=particiones)\n",
        "\n",
        "display(mejor_modelo)"
      ]
    },
    {
      "cell_type": "code",
      "execution_count": 84,
      "id": "ab6b8437",
      "metadata": {
        "colab": {
          "base_uri": "https://localhost:8080/"
        },
        "id": "ab6b8437",
        "outputId": "1df5d5a1-eba4-442c-de1b-80c3abb98076"
      },
      "outputs": [
        {
          "name": "stdout",
          "output_type": "stream",
          "text": [
            "{'criterion': 'gini', 'max_depth': 30}\n"
          ]
        }
      ],
      "source": [
        "from sklearn.metrics import ConfusionMatrixDisplay\n",
        "\n",
        "\n",
        "mejor_modelo.fit(X_train,y_train)\n",
        "\n",
        "print(mejor_modelo.best_params_)\n",
        "\n",
        "arbol_final = mejor_modelo.best_estimator_"
      ]
    },
    {
      "cell_type": "code",
      "execution_count": 85,
      "id": "b1759884",
      "metadata": {
        "colab": {
          "base_uri": "https://localhost:8080/",
          "height": 680
        },
        "id": "b1759884",
        "outputId": "62392b8d-c84d-4a1f-848c-bbd50c72e0f5"
      },
      "outputs": [
        {
          "name": "stdout",
          "output_type": "stream",
          "text": [
            "\n",
            "TRAIN — Reporte por clase:\n",
            "              precision    recall  f1-score   support\n",
            "\n",
            "           1       1.00      1.00      1.00       429\n",
            "           3       1.00      1.00      1.00       760\n",
            "           4       1.00      1.00      1.00       871\n",
            "\n",
            "    accuracy                           1.00      2060\n",
            "   macro avg       1.00      1.00      1.00      2060\n",
            "weighted avg       1.00      1.00      1.00      2060\n",
            "\n"
          ]
        },
        {
          "data": {
            "image/png": "[encoded data removed]",
            "text/plain": [
              "<Figure size 640x480 with 2 Axes>"
            ]
          },
          "metadata": {},
          "output_type": "display_data"
        }
      ],
      "source": [
        "y_train_pred = arbol_final.predict(X_train)\n",
        "cm_train = confusion_matrix(y_train, y_train_pred)\n",
        "disp = ConfusionMatrixDisplay(confusion_matrix=cm_train, display_labels=arbol_final.classes_)\n",
        "disp.plot(cmap=plt.cm.Blues)\n",
        "\n",
        "print(\"\\nTRAIN — Reporte por clase:\")\n",
        "print(classification_report(y_train, y_train_pred))\n",
        "\n",
        "plt.title(\"Matriz de confusión — TRAIN (Árbol de Decisión)\")\n",
        "plt.show()\n"
      ]
    },
    {
      "cell_type": "code",
      "execution_count": 86,
      "id": "f7abf277",
      "metadata": {
        "colab": {
          "base_uri": "https://localhost:8080/",
          "height": 680
        },
        "id": "f7abf277",
        "outputId": "189a161a-1832-4c7c-ec41-268b46da1858"
      },
      "outputs": [
        {
          "name": "stdout",
          "output_type": "stream",
          "text": [
            "\n",
            "TEST — Reporte por clase:\n",
            "              precision    recall  f1-score   support\n",
            "\n",
            "           1       0.92      0.92      0.92        76\n",
            "           3       0.93      0.91      0.92       134\n",
            "           4       0.94      0.96      0.95       154\n",
            "\n",
            "    accuracy                           0.93       364\n",
            "   macro avg       0.93      0.93      0.93       364\n",
            "weighted avg       0.93      0.93      0.93       364\n",
            "\n"
          ]
        },
        {
          "data": {
            "image/png": "[encoded data removed]",
            "text/plain": [
              "<Figure size 640x480 with 2 Axes>"
            ]
          },
          "metadata": {},
          "output_type": "display_data"
        }
      ],
      "source": [
        "y_test_pred = arbol_final.predict(X_test)\n",
        "cm_test = confusion_matrix(y_test, y_test_pred)\n",
        "\n",
        "disp = ConfusionMatrixDisplay(confusion_matrix=cm_test, display_labels=arbol_final.classes_)\n",
        "disp.plot(cmap=plt.cm.Blues)\n",
        "\n",
        "print(\"\\nTEST — Reporte por clase:\")\n",
        "print(classification_report(y_test, y_test_pred))\n",
        "\n",
        "plt.title(\"Matriz de confusión — TEST (Árbol de Decisión)\")\n",
        "plt.show()"
      ]
    },
    {
      "cell_type": "code",
      "execution_count": 87,
      "id": "77bf74c3",
      "metadata": {
        "colab": {
          "base_uri": "https://localhost:8080/"
        },
        "id": "77bf74c3",
        "outputId": "7060e748-e78e-4e77-bbc7-30e13ffeae37"
      },
      "outputs": [
        {
          "data": {
            "text/plain": [
              "['models/tfidf.pkl']"
            ]
          },
          "execution_count": 87,
          "metadata": {},
          "output_type": "execute_result"
        }
      ],
      "source": [
        "joblib.dump(arbol_final, \"models/arbol_final.pkl\")\n",
        "joblib.dump(tfidf, \"models/tfidf.pkl\")"
      ]
    },
    {
      "cell_type": "markdown",
      "id": "2920281b",
      "metadata": {
        "id": "2920281b"
      },
      "source": [
        "# Aplicación modelo de Árbol de Decisión"
      ]
    },
    {
      "cell_type": "code",
      "execution_count": 88,
      "id": "1b33ee9a",
      "metadata": {
        "colab": {
          "base_uri": "https://localhost:8080/"
        },
        "id": "1b33ee9a",
        "outputId": "98056e3d-ef7d-4e02-8c0a-aeb35bc58256"
      },
      "outputs": [
        {
          "name": "stdout",
          "output_type": "stream",
          "text": [
            "\n",
            "Listo. Archivos generados:\n",
            "- outputs/predicciones_arbdec.xlsx\n"
          ]
        }
      ],
      "source": [
        "new_df = pd.read_excel('data/Datos de prueba_proyecto.xlsx')\n",
        "arbol_final = joblib.load(\"models/arbol_final.pkl\")\n",
        "tfidf = joblib.load(\"models/tfidf.pkl\")\n",
        "\n",
        "if \"id\" not in new_df.columns:\n",
        "    new_df = new_df.reset_index(drop=False).rename(columns={\"index\": \"id\"})\n",
        "new_df[\"id\"] = new_df[\"id\"] + 1\n",
        "\n",
        "# preprocesamiento con lematización\n",
        "new_df[\"text_lematizacion\"] = new_df[\"Textos_espanol\"].apply(pipeline)\n",
        "\n",
        "# usar el mismo tfidf que se entrenó\n",
        "X_nuevo = tfidf.transform(new_df[\"text_lematizacion\"].astype(str))\n",
        "\n",
        "# predicción\n",
        "y_nuevo_pred = arbol_final.predict(X_nuevo)\n",
        "\n",
        "out = pd.concat(\n",
        "    [\n",
        "        new_df[[\"id\", \"Textos_espanol\"]].reset_index(drop=True),\n",
        "        pd.Series(y_nuevo_pred, name=\"pred_label\").reset_index(drop=True)\n",
        "    ],\n",
        "    axis=1\n",
        ")\n",
        "\n",
        "out.to_excel(\"outputs/predicciones_arbdec.xlsx\", index=False)\n",
        "\n",
        "print(\"\\nListo. Archivos generados:\")\n",
        "print(\"- outputs/predicciones_arbdec.xlsx\")"
      ]
    },
    {
      "cell_type": "markdown",
      "id": "oeXbdAPk48Tn",
      "metadata": {
        "id": "oeXbdAPk48Tn"
      },
      "source": [
        "# Modelo SVM (Support Vector Machines) Lineal"
      ]
    },
    {
      "cell_type": "code",
      "execution_count": 102,
      "id": "YGwUGO865CP1",
      "metadata": {
        "id": "YGwUGO865CP1"
      },
      "outputs": [],
      "source": [
        "import os, numpy as np, pandas as pd\n",
        "import matplotlib.pyplot as plt\n",
        "from sklearn.model_selection import train_test_split, StratifiedKFold, GridSearchCV\n",
        "from sklearn.feature_extraction.text import TfidfVectorizer\n",
        "from sklearn.svm import LinearSVC\n",
        "from sklearn.pipeline import Pipeline\n",
        "from sklearn.metrics import classification_report, f1_score, accuracy_score, confusion_matrix\n",
        "import joblib\n",
        "\n",
        "RANDOM_STATE = 42\n",
        "np.random.seed(RANDOM_STATE)\n",
        "os.makedirs(\"models\", exist_ok=True)\n",
        "os.makedirs(\"outputs\", exist_ok=True)\n"
      ]
    },
    {
      "cell_type": "markdown",
      "id": "y6QBISaH5_QN",
      "metadata": {
        "id": "y6QBISaH5_QN"
      },
      "source": [
        "## Pipeline TF-IDF + LinearSVC y GridSearc"
      ]
    },
    {
      "cell_type": "code",
      "execution_count": 91,
      "id": "Gcv1Cyl25df1",
      "metadata": {
        "colab": {
          "base_uri": "https://localhost:8080/"
        },
        "id": "Gcv1Cyl25df1",
        "outputId": "f30f5996-0557-43b3-a9a8-cbe7f8077f7f"
      },
      "outputs": [
        {
          "name": "stdout",
          "output_type": "stream",
          "text": [
            "Fitting 5 folds for each of 12 candidates, totalling 60 fits\n",
            "Mejores params: {'clf__C': 0.1, 'clf__class_weight': 'balanced'}\n",
            "CV Macro F1: 0.9785\n"
          ]
        }
      ],
      "source": [
        "pipe_svm = Pipeline(steps=[\n",
        "    (\"tfidf\", TfidfVectorizer(\n",
        "        ngram_range=(1,2),\n",
        "        min_df=5,\n",
        "        max_df=0.9,\n",
        "        sublinear_tf=True,\n",
        "        norm=\"l2\",\n",
        "        max_features=50000,\n",
        "        lowercase=False,  # ya viene en lemas normalizados\n",
        "    )),\n",
        "    (\"clf\", LinearSVC(\n",
        "        random_state=RANDOM_STATE,\n",
        "        dual=True  # bueno cuando #features >> #muestras (TF-IDF)\n",
        "    )),\n",
        "])\n",
        "\n",
        "param_grid = {\n",
        "    \"clf__C\": [0.1, 0.5, 1, 2, 5, 10],\n",
        "    \"clf__class_weight\": [None, \"balanced\"],\n",
        "}\n",
        "\n",
        "cv = StratifiedKFold(n_splits=5, shuffle=True, random_state=RANDOM_STATE)\n",
        "\n",
        "gcv_svm = GridSearchCV(\n",
        "    estimator=pipe_svm,\n",
        "    param_grid=param_grid,\n",
        "    scoring=\"f1_macro\",\n",
        "    cv=cv,\n",
        "    n_jobs=-1,\n",
        "    verbose=2\n",
        ")\n",
        "\n",
        "X = df[\"texto_lematizacion\"].astype(str)\n",
        "y = df[\"labels\"].astype(int)\n",
        "\n",
        "X_train, X_test, y_train, y_test = train_test_split(\n",
        "    X, y, test_size=0.15, stratify=y, random_state=RANDOM_STATE\n",
        ")\n",
        "\n",
        "gcv_svm.fit(X_train, y_train)\n",
        "print(\"Mejores params:\", gcv_svm.best_params_)\n",
        "print(\"CV Macro F1:\", round(gcv_svm.best_score_, 4))\n",
        "\n",
        "best_svm = gcv_svm.best_estimator_\n"
      ]
    },
    {
      "cell_type": "markdown",
      "id": "ecb8f56c",
      "metadata": {},
      "source": [
        "# Evalucaión en TRAIN"
      ]
    },
    {
      "cell_type": "code",
      "execution_count": null,
      "id": "8c08a4eb",
      "metadata": {},
      "outputs": [
        {
          "name": "stdout",
          "output_type": "stream",
          "text": [
            "\n",
            "TRAIN — Reporte por clase:\n",
            "              precision    recall  f1-score   support\n",
            "\n",
            "           1       0.99      0.99      0.99       429\n",
            "           3       1.00      0.99      1.00       760\n",
            "           4       1.00      1.00      1.00       871\n",
            "\n",
            "    accuracy                           0.99      2060\n",
            "   macro avg       0.99      0.99      0.99      2060\n",
            "weighted avg       0.99      0.99      0.99      2060\n",
            "\n"
          ]
        },
        {
          "data": {
            "image/png": "[encoded data removed]",
            "text/plain": [
              "<Figure size 640x480 with 2 Axes>"
            ]
          },
          "metadata": {},
          "output_type": "display_data"
        }
      ],
      "source": [
        "y = df[\"labels\"].astype(int)\n",
        "\n",
        "y_train_pred = best_svm.predict(X_train)\n",
        "acc = accuracy_score(y_train, y_train_pred)\n",
        "\n",
        "# Matriz de confusión\n",
        "cm = confusion_matrix(y_train, y_train_pred, labels=sorted(y.unique()))\n",
        "\n",
        "disp = ConfusionMatrixDisplay(confusion_matrix=cm, display_labels=best_svm.classes_)\n",
        "disp.plot(cmap=plt.cm.Blues)\n",
        "\n",
        "print(\"\\nTRAIN — Reporte por clase:\")\n",
        "print(classification_report(y_train, y_train_pred))\n",
        "\n",
        "plt.title(\"Matriz de confusión — TRAIN (LinearSVM)\")\n",
        "plt.show()\n"
      ]
    },
    {
      "cell_type": "markdown",
      "id": "K3HD3stW6BKF",
      "metadata": {
        "id": "K3HD3stW6BKF"
      },
      "source": [
        "## Evaluación en TEST + matriz de confusión"
      ]
    },
    {
      "cell_type": "code",
      "execution_count": null,
      "id": "y2-Q_xOs5nwh",
      "metadata": {
        "colab": {
          "base_uri": "https://localhost:8080/",
          "height": 633
        },
        "id": "y2-Q_xOs5nwh",
        "outputId": "65c5be46-8be0-4007-93cb-6fae6c804455"
      },
      "outputs": [
        {
          "name": "stdout",
          "output_type": "stream",
          "text": [
            "\n",
            "TEST — Reporte por clase:\n",
            "              precision    recall  f1-score   support\n",
            "\n",
            "           1       0.97      0.95      0.96        76\n",
            "           3       0.97      0.96      0.96       134\n",
            "           4       0.96      0.99      0.97       154\n",
            "\n",
            "    accuracy                           0.97       364\n",
            "   macro avg       0.97      0.96      0.97       364\n",
            "weighted avg       0.97      0.97      0.97       364\n",
            "\n"
          ]
        },
        {
          "data": {
            "image/png": "[encoded data removed]",
            "text/plain": [
              "<Figure size 640x480 with 2 Axes>"
            ]
          },
          "metadata": {},
          "output_type": "display_data"
        }
      ],
      "source": [
        "\n",
        "\n",
        "y_pred = best_svm.predict(X_test)\n",
        "acc = accuracy_score(y_test, y_pred)\n",
        "\n",
        "# Matriz de confusión\n",
        "cm = confusion_matrix(y_test, y_pred, labels=sorted(y.unique()))\n",
        "\n",
        "disp = ConfusionMatrixDisplay(confusion_matrix=cm_test, display_labels=arbol_final.classes_)\n",
        "disp.plot(cmap=plt.cm.Blues)\n",
        "\n",
        "print(\"\\nTEST — Reporte por clase:\")\n",
        "print(classification_report(y_test, y_pred))\n",
        "\n",
        "plt.title(\"Matriz de confusión — TEST (LinearSVM)\")\n",
        "plt.show()\n"
      ]
    },
    {
      "cell_type": "code",
      "execution_count": 100,
      "id": "23ee6e50",
      "metadata": {},
      "outputs": [
        {
          "data": {
            "text/plain": [
              "['models/tfidf.pkl']"
            ]
          },
          "execution_count": 100,
          "metadata": {},
          "output_type": "execute_result"
        }
      ],
      "source": [
        "joblib.dump(best_svm, \"models/text_svm_lineal.pkl\")\n",
        "joblib.dump(tfidf, \"models/tfidf.pkl\")"
      ]
    },
    {
      "cell_type": "markdown",
      "id": "csgICnqS6G_b",
      "metadata": {
        "id": "csgICnqS6G_b"
      },
      "source": [
        "## Top términos por clase"
      ]
    },
    {
      "cell_type": "code",
      "execution_count": 96,
      "id": "xBsZvvST6Hff",
      "metadata": {
        "colab": {
          "base_uri": "https://localhost:8080/"
        },
        "id": "xBsZvvST6Hff",
        "outputId": "22b0c662-fe0f-430f-8fe5-d72d4bfbe014"
      },
      "outputs": [
        {
          "name": "stdout",
          "output_type": "stream",
          "text": [
            "\n",
            "=== Clase 1 | Top +20 términos ===\n",
            "pobreza, pobre, hogar, ingreso, privación, social, protección social, protección, transferencia, empleo, crecimiento, familia, niño, multidimensional, pobreza infantil, umbral, vivir, tasa pobreza, vivienda, monetario\n",
            "\n",
            "=== Clase 3 | Top +20 términos ===\n",
            "salud, médico, atención, paciente, enfermedad, sanitario, hospital, tratamiento, mental, droga, mortalidad, alcohol, atención primario, servicio, medicamento, consumo, hospitalario, muerte, clínico, salud mental\n",
            "\n",
            "=== Clase 4 | Top +20 términos ===\n",
            "educación, escuela, estudiante, educativo, docente, aprendizaje, escolar, alumno, profesor, enseñanza, maestro, habilidad, evaluación, formación, superior, sistema educativo, pisa, universidad, rendimiento, padre\n"
          ]
        }
      ],
      "source": [
        "def top_terms_linear(model, topn=20):\n",
        "    tfidf = model.named_steps[\"tfidf\"]\n",
        "    clf = model.named_steps[\"clf\"]\n",
        "    feature_names = np.array(tfidf.get_feature_names_out())\n",
        "\n",
        "    if not hasattr(clf, \"coef_\"):\n",
        "        raise ValueError(\"El clasificador no expone coef_. Usa LinearSVC o LogReg.\")\n",
        "\n",
        "    for idx, clase in enumerate(clf.classes_):\n",
        "        coefs = clf.coef_[idx]\n",
        "        top_pos = np.argsort(coefs)[-topn:][::-1]\n",
        "        print(f\"\\n=== Clase {clase} | Top +{topn} términos ===\")\n",
        "        print(\", \".join(feature_names[top_pos]))\n",
        "\n",
        "top_terms_linear(best_svm, topn=20)\n"
      ]
    },
    {
      "cell_type": "markdown",
      "id": "RjcPdqQj6Qyf",
      "metadata": {
        "id": "RjcPdqQj6Qyf"
      },
      "source": [
        "## Guardar y reutilizar (persistencia)"
      ]
    },
    {
      "cell_type": "code",
      "execution_count": 101,
      "id": "var-Jzzd6P9H",
      "metadata": {
        "colab": {
          "base_uri": "https://localhost:8080/"
        },
        "id": "var-Jzzd6P9H",
        "outputId": "76adc696-cbfa-452b-c5a2-8794015c4baa"
      },
      "outputs": [
        {
          "name": "stdout",
          "output_type": "stream",
          "text": [
            "Predicciones guardadas en outputs/predicciones_svm.xlsx\n"
          ]
        }
      ],
      "source": [
        "def predecir_excel_svm(path_excel, texto_col=\"Textos_espanol\", out_path=\"outputs/predicciones_svm.xlsx\"):\n",
        "    modelo = joblib.load(\"models/text_svm_lineal.pkl\")\n",
        "    df_new = pd.read_excel(path_excel)\n",
        "    if texto_col not in df_new.columns:\n",
        "        raise ValueError(f\"No se encontró la columna '{texto_col}' en el archivo.\")\n",
        "    X_new = df_new[texto_col].astype(str)\n",
        "    y_hat = modelo.predict(X_new)\n",
        "    salida = df_new.assign(pred_label=y_hat)\n",
        "    os.makedirs(os.path.dirname(out_path), exist_ok=True)\n",
        "    salida.to_excel(out_path, index=False)\n",
        "    print(f\"Predicciones guardadas en {out_path}\")\n",
        "\n",
        "\n",
        "predecir_excel_svm(\"data/Datos de prueba_proyecto.xlsx\", texto_col=\"Textos_espanol\")"
      ]
    },
    {
      "cell_type": "markdown",
      "id": "k5QHsE0vWJja",
      "metadata": {
        "id": "k5QHsE0vWJja"
      },
      "source": [
        "# Clasifiador con embeddings"
      ]
    },
    {
      "cell_type": "code",
      "execution_count": 31,
      "id": "XlAlNwp5W1h1",
      "metadata": {
        "id": "XlAlNwp5W1h1"
      },
      "outputs": [],
      "source": [
        "import os, numpy as np, pandas as pd, joblib, matplotlib.pyplot as plt\n",
        "from sklearn.base import BaseEstimator, TransformerMixin\n",
        "from sklearn.model_selection import train_test_split, StratifiedKFold, GridSearchCV\n",
        "from sklearn.preprocessing import StandardScaler\n",
        "from sklearn.linear_model import LogisticRegression\n",
        "from sklearn.svm import LinearSVC\n",
        "from sklearn.pipeline import Pipeline\n",
        "from sklearn.metrics import classification_report, f1_score, accuracy_score, confusion_matrix\n",
        "from sentence_transformers import SentenceTransformer\n",
        "\n",
        "RANDOM_STATE = 42\n",
        "np.random.seed(RANDOM_STATE)\n"
      ]
    },
    {
      "cell_type": "markdown",
      "id": "QUDxB8SBbM2s",
      "metadata": {
        "id": "QUDxB8SBbM2s"
      },
      "source": []
    },
    {
      "cell_type": "code",
      "execution_count": 32,
      "id": "2sPJttQ2Y23D",
      "metadata": {
        "colab": {
          "base_uri": "https://localhost:8080/"
        },
        "id": "2sPJttQ2Y23D",
        "outputId": "e1a07b16-8a27-45df-9845-be4ebbec59f3"
      },
      "outputs": [
        {
          "data": {
            "text/plain": [
              "(2060,\n",
              " 364,\n",
              " labels\n",
              " 4    871\n",
              " 3    760\n",
              " 1    429\n",
              " Name: count, dtype: int64,\n",
              " labels\n",
              " 4    154\n",
              " 3    134\n",
              " 1     76\n",
              " Name: count, dtype: int64)"
            ]
          },
          "execution_count": 32,
          "metadata": {},
          "output_type": "execute_result"
        }
      ],
      "source": [
        "df = df.rename(columns={\"textos\": \"texto\"})  # homogeneiza nombre si aplica\n",
        "X_all = df[\"texto\"].astype(str)\n",
        "y_all = df[\"labels\"].astype(int)\n",
        "\n",
        "X_train, X_test, y_train, y_test = train_test_split(\n",
        "    X_all, y_all, test_size=0.15, stratify=y_all, random_state=RANDOM_STATE\n",
        ")\n",
        "\n",
        "len(X_train), len(X_test), y_train.value_counts(), y_test.value_counts()\n"
      ]
    },
    {
      "cell_type": "markdown",
      "id": "Y3qcthNBbDOK",
      "metadata": {
        "id": "Y3qcthNBbDOK"
      },
      "source": [
        "# Transformer para embeddings (Sentence-BERT)"
      ]
    },
    {
      "cell_type": "code",
      "execution_count": 33,
      "id": "UYLFNIkwadxF",
      "metadata": {
        "id": "UYLFNIkwadxF"
      },
      "outputs": [],
      "source": [
        "class SBERTTransformer(BaseEstimator, TransformerMixin):\n",
        "    def __init__(self, model_name=\"paraphrase-multilingual-MiniLM-L12-v2\", batch_size=64, device=None):\n",
        "        self.model_name = model_name\n",
        "        self.batch_size = batch_size\n",
        "        self.device = device  # None = auto\n",
        "        self._model = None\n",
        "\n",
        "    def fit(self, X, y=None):\n",
        "        if self._model is None:\n",
        "            self._model = SentenceTransformer(self.model_name, device=self.device)\n",
        "        return self\n",
        "\n",
        "    def transform(self, X):\n",
        "        assert self._model is not None, \"Llama a fit() antes de transform()\"\n",
        "        # Devuelve matriz densa (n_samples, embedding_dim)\n",
        "        emb = self._model.encode(\n",
        "            list(X),\n",
        "            batch_size=self.batch_size,\n",
        "            show_progress_bar=True,\n",
        "            convert_to_numpy=True,\n",
        "            normalize_embeddings=True  # normaliza L2 (suele ayudar)\n",
        "        )\n",
        "        return emb\n"
      ]
    },
    {
      "cell_type": "markdown",
      "id": "5UqEpwxZa_ee",
      "metadata": {
        "id": "5UqEpwxZa_ee"
      },
      "source": [
        "# Pipeline Embeddings → (Scaler) → Clasificador + GridSearch\n",
        "tengo que corregir algo aqui que se demora DEMASIADO ejecutando.\n",
        "\n",
        "```\n",
        "⠀⠀⠀⠀⠀⠀⠀⠀⠀⠀⠀⠀⠀⠀⠀⠀⢀⣠⣤⡶⠶⠿⠿⠶⢶⣤⣄⠀⠀⠀⠀⢀⣀⣠⣤⣤⣤⣀⡀⠀⠀⠀⠀⠀⠀⠀⠀⠀⠀\n",
        "⠀⠀⠀⠀⠀⠀⠀⠀⠀⠀⠀⠀⠀⢀⣤⣾⠟⠉⠀⠀⠀⠀⠀⠀⠀⠈⠛⢿⣦⣶⠿⠛⠉⠉⠁⠀⠈⠙⠻⣦⡀⠀⠀⠀⠀⠀⠀⠀⠀\n",
        "⠀⠀⠀⠀⠀⠀⠀⠀⠀⠀⠀⠀⣰⡿⠋⠀⠀⠀⣀⣠⣤⣤⣤⣤⣤⣤⣀⡀⠹⣧⠀⠀⠀⠀⠀⠀⠀⠀⠀⠈⢿⡄⠀⠀⠀⠀⠀⠀⠀\n",
        "⠀⠀⠀⠀⠀⠀⠀⠀⠀⠀⠀⣰⡿⠁⠀⠀⣶⡿⠛⠉⠀⠀⠀⠀⠀⠈⠉⠻⢷⣿⣧⣶⣶⠶⠿⠿⠿⠿⠷⣶⣾⣷⣄⡀⠀⠀⠀⠀⠀\n",
        "⠀⠀⠀⠀⠀⠀⠀⠀⠀⠀⣰⡿⠀⠀⠀⠀⠁⠀⠀⠀⠀⢀⣠⣤⣶⠶⢾⣿⣿⡿⠿⣶⣄⠀⠀⢴⡶⠶⡶⣷⣾⢿⠿⠿⠷⣦⣄⠀⠀\n",
        "⠀⠀⠀⠀⠀⠀⠀⠀⣀⣴⡟⠀⠀⠀⠀⠀⠀⣀⣤⣶⠾⣻⣭⣷⠾⠛⠛⠋⠛⠛⠛⠻⢿⣷⣤⣶⣷⠶⠿⡛⣛⢛⠛⠛⠿⣶⣿⡆⠀\n",
        "⠀⠀⠀⠀⠀⢀⣴⡾⠛⠁⠀⠀⠀⠀⠀⢠⣴⣿⣭⡶⠟⠋⠉⠀⣀⣠⣤⣶⣶⠾⠿⠛⠻⢿⣧⣤⣴⡶⠿⢿⣿⣿⣿⣟⠛⠷⠿⣿⡆\n",
        "⠀⠀⠀⠀⠀⣼⠟⠀⠀⠀⠀⠀⠀⠀⠀⠙⠷⠾⣷⣶⣶⡶⠾⠛⢻⣿⣏⣻⡿⠻⣦⡀⢀⣼⠏⠁⠀⠀⢠⣿⣧⣼⠛⣿⣷⠀⢀⣼⡇\n",
        "⠀⠀⠀⢀⣾⠏⠀⠀⠀⠀⠀⠀⠀⠀⠀⠀⠀⠀⠸⣯⣛⡷⣦⣤⣾⣿⣯⣽⣷⣴⣿⡷⣟⣿⠷⠶⣶⣤⣾⣿⣦⣿⣶⣿⣿⣿⣿⠏⠀\n",
        "⠀⠀⣠⣿⠃⠀⠀⠀⠀⠀⠀⠀⠀⠀⠀⠀⠀⠀⠀⠈⠉⠛⠻⠶⠿⠿⠿⠷⢾⣿⣿⠟⠋⠁⣤⡀⠀⠀⠀⠀⠀⠀⢀⣠⣼⠟⠀⠀⠀\n",
        "⠀⢠⡿⠁⠀⠀⠀⠀⠀⠀⠀⠀⠀⠀⠀⠀⠀⠀⠀⠀⠀⠀⠀⠀⣀⣠⣤⡶⠿⠋⠁⠀⠀⠀⠛⠻⢶⣶⡶⠶⠶⠿⣿⡏⠁⠀⠀⠀⠀\n",
        "⢠⣿⠁⠀⠀⠀⠀⠀⠀⠀⠀⠀⠀⠀⠀⠀⠀⠀⠀⠀⠀⠀⠀⠀⠛⠉⠁⠀⠀⠀⠀⠀⠀⠀⠀⠀⠀⠙⠿⠀⠀⠀⠈⢿⣦⠀⠀⠀⠀\n",
        "⢸⡇⠀⠀⠀⠀⠀⠀⠀⠀⠀⠀⠀⠀⠀⠀⠀⠀⠀⠀⠀⠀⠀⠀⠀⠀⠀⠀⠀⠀⠀⠀⠀⠀⠀⠀⠀⠀⠀⠀⠀⠀⠀⠀⢹⣧⠀⠀⠀\n",
        "⠸⣷⠀⠀⠀⠀⠀⠀⠀⠀⠀⠀⠀⠀⠀⣠⣶⠶⡿⠛⠛⠻⠿⠶⢶⣦⣤⣤⣀⣀⡀⠀⠀⠀⠀⠀⣀⣀⣀⣀⣤⣤⣶⠶⠟⠻⣧⠀⠀\n",
        "⠀⢻⣇⠀⠀⠀⠀⠀⠀⠀⠀⠀⠀⠀⢼⡟⠀⠰⡶⢶⣶⣶⣤⣤⣤⣀⣀⠉⠙⠛⠛⠛⠛⠛⠛⠛⠛⠛⠛⠉⠉⠀⠀⢀⣀⣴⡟⠀⠀\n",
        "⠀⠈⢿⣆⠀⠀⠀⠀⠀⠀⠀⠀⠀⣴⠘⢿⣤⣀⣥⣤⣴⣦⣤⣬⣉⣉⣛⠛⠛⠿⠷⠶⠶⠶⠶⠶⠶⠶⠶⠶⠾⠟⠛⢻⣿⠁⠀⠀⠀\n",
        "⠀⠀⠈⠻⣧⣄⠀⠀⠀⠀⠀⠀⠀⠻⣷⣤⣉⡉⠁⠀⠀⠀⠀⠈⠉⠛⠛⠻⠿⠿⠶⢶⣶⣶⣶⣦⣤⣤⣤⣄⣠⣤⣴⡾⠋⠀⠀⠀⠀\n",
        "⠀⠀⠀⠀⠘⢿⣷⣦⣤⣀⡀⠀⠀⠀⠀⠉⠉⠀⠀⠀⠀⠀⠀⠀⠀⠀⠀⠀⠀⠀⠀⠀⠀⠀⠀⠀⠀⣈⣽⠟⠋⠀⠀⠀⠀⠀⠀⠀⠀\n",
        "⠀⠀⠀⠀⠀⠀⠉⠛⠿⣿⣿⣿⡷⣶⣦⣤⣄⣀⣀⣀⣀⣀⣀⣀⣀⣀⣀⣀⣀⣀⣀⣠⣤⣴⣶⡾⠿⠋⠁⠀⠀⠀⠀⠀⠀⠀⠀⠀⠀\n",
        "⠀⠀⠀⠀⠀⠀⠀⠀⠀⠀⠈⠉⠙⠛⠷⠾⢯⣭⣭⣭⣭⣉⣉⣉⣉⣉⣉⣉⣩⣭⣽⡿⠟⠁⠀⠀⠀⠀⠀⠀⠀⠀⠀⠀⠀⠀⠀⠀⠀\n",
        "⠀⠀⠀⠀⠀⠀⠀⠀⠀⠀⠀⠀⠀⠀⠀⠀⠀⠀⠀⠀⠉⠉⠉⠉⠉⠉⠉⠉⠉⠀⠀⠀⠀⠀⠀⠀⠀⠀⠀⠀⠀⠀⠀⠀⠀⠀⠀⠀⠀\n",
        "```"
      ]
    },
    {
      "cell_type": "code",
      "execution_count": null,
      "id": "LU8Gnmp_aniV",
      "metadata": {
        "colab": {
          "base_uri": "https://localhost:8080/"
        },
        "id": "LU8Gnmp_aniV",
        "outputId": "90d993f8-b51e-4103-bd6c-010a5baf6f1f"
      },
      "outputs": [
        {
          "name": "stdout",
          "output_type": "stream",
          "text": [
            "Fitting 5 folds for each of 5 candidates, totalling 25 fits\n"
          ]
        },
        {
          "name": "stderr",
          "output_type": "stream",
          "text": [
            "/usr/local/lib/python3.12/dist-packages/joblib/externals/loky/process_executor.py:782: UserWarning: A worker stopped while some jobs were given to the executor. This can be caused by a too short worker timeout or by a memory leak.\n",
            "  warnings.warn(\n"
          ]
        }
      ],
      "source": [
        "pipe_emb = Pipeline(steps=[\n",
        "    (\"emb\", SBERTTransformer(model_name=\"paraphrase-multilingual-MiniLM-L12-v2\")),\n",
        "    (\"scaler\", StandardScaler(with_mean=True, with_std=True)),  # embeddings son densos → OK\n",
        "    (\"clf\", LogisticRegression(\n",
        "        max_iter=5000,\n",
        "        class_weight=\"balanced\",\n",
        "        n_jobs=-1,\n",
        "        solver=\"lbfgs\",\n",
        "        random_state=RANDOM_STATE\n",
        "    )),\n",
        "])\n",
        "\n",
        "param_grid = {\n",
        "    # Si quieres probar otro modelo, cambia 'clf' en la celda 7.\n",
        "    \"clf__C\": [0.25, 0.5, 1, 2, 4],\n",
        "}\n",
        "\n",
        "cv = StratifiedKFold(n_splits=5, shuffle=True, random_state=RANDOM_STATE)\n",
        "gcv_emb = GridSearchCV(pipe_emb, param_grid, scoring=\"f1_macro\", cv=cv, n_jobs=-1, verbose=2)\n",
        "gcv_emb.fit(X_train, y_train)\n",
        "\n",
        "print(\"Mejores params:\", gcv_emb.best_params_)\n",
        "print(\"CV Macro F1:\", round(gcv_emb.best_score_, 4))\n"
      ]
    },
    {
      "cell_type": "markdown",
      "id": "UERqCirqa60U",
      "metadata": {
        "id": "UERqCirqa60U"
      },
      "source": [
        "# Evaluación en TEST + matriz de confusión"
      ]
    },
    {
      "cell_type": "code",
      "execution_count": null,
      "id": "vmTpQAfcasEb",
      "metadata": {
        "id": "vmTpQAfcasEb"
      },
      "outputs": [],
      "source": [
        "best_emb = gcv_emb.best_estimator_\n",
        "\n",
        "y_pred = best_emb.predict(X_test)\n",
        "acc = accuracy_score(y_test, y_pred)\n",
        "f1m = f1_score(y_test, y_pred, average=\"macro\")\n",
        "f1w = f1_score(y_test, y_pred, average=\"weighted\")\n",
        "print(f\"TEST | Acc: {acc:.4f}  F1-macro: {f1m:.4f}  F1-weighted: {f1w:.4f}\\n\")\n",
        "print(classification_report(y_test, y_pred, digits=4))\n",
        "\n",
        "cm = confusion_matrix(y_test, y_pred, labels=sorted(y_all.unique()))\n",
        "fig, ax = plt.subplots(figsize=(5,4))\n",
        "im = ax.imshow(cm, interpolation=\"nearest\")\n",
        "ax.set_title(\"Matriz de confusión — Embeddings + Clasificador\")\n",
        "ax.set_xlabel(\"Predicho\"); ax.set_ylabel(\"Real\")\n",
        "ax.set_xticks(range(len(cm))); ax.set_yticks(range(len(cm)))\n",
        "ax.set_xticklabels(sorted(y_all.unique())); ax.set_yticklabels(sorted(y_all.unique()))\n",
        "for i in range(cm.shape[0]):\n",
        "    for j in range(cm.shape[1]):\n",
        "        ax.text(j, i, cm[i, j], ha=\"center\", va=\"center\")\n",
        "plt.colorbar(im); plt.tight_layout(); plt.show()\n"
      ]
    },
    {
      "cell_type": "markdown",
      "id": "0iyOPvH0a2KC",
      "metadata": {
        "id": "0iyOPvH0a2KC"
      },
      "source": [
        "# Guardar y función de inferencia en Excel"
      ]
    },
    {
      "cell_type": "code",
      "execution_count": null,
      "id": "yFPDlSJJausU",
      "metadata": {
        "id": "yFPDlSJJausU"
      },
      "outputs": [],
      "source": [
        "joblib.dump(best_emb, \"models/text_emb_sbert_logreg.pkl\")\n",
        "print(\"Guardado en models/text_emb_sbert_logreg.pkl\")\n",
        "\n",
        "def predecir_excel_embeddings(path_excel, texto_col=\"Textos_espanol\",\n",
        "                              model_path=\"models/text_emb_sbert_logreg.pkl\",\n",
        "                              out_path=\"outputs/predicciones_embeddings.xlsx\"):\n",
        "    model = joblib.load(model_path)\n",
        "    df_new = pd.read_excel(path_excel)\n",
        "    if texto_col not in df_new.columns:\n",
        "        raise ValueError(f\"No se encontró la columna '{texto_col}'\")\n",
        "    X_new = df_new[texto_col].astype(str)\n",
        "    y_hat = model.predict(X_new)\n",
        "    df_out = df_new.assign(pred_label=y_hat)\n",
        "    os.makedirs(os.path.dirname(out_path), exist_ok=True)\n",
        "    df_out.to_excel(out_path, index=False)\n",
        "    print(f\"Predicciones guardadas en {out_path}\")\n",
        "\n",
        "\n",
        "predecir_excel_embeddings(\"data/Datos de prueba_proyecto.xlsx\", texto_col=\"Textos_espanol\")\n"
      ]
    }
  ],
  "metadata": {
    "colab": {
      "provenance": []
    },
    "kernelspec": {
      "display_name": "Python 3",
      "language": "python",
      "name": "python3"
    },
    "language_info": {
      "codemirror_mode": {
        "name": "ipython",
        "version": 3
      },
      "file_extension": ".py",
      "mimetype": "text/x-python",
      "name": "python",
      "nbconvert_exporter": "python",
      "pygments_lexer": "ipython3",
      "version": "3.12.8"
    }
  },
  "nbformat": 4,
  "nbformat_minor": 5
}
